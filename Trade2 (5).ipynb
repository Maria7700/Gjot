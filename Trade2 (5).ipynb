{
  "cells": [
    {
      "cell_type": "code",
      "execution_count": 54,
      "metadata": {
        "colab": {
          "base_uri": "https://localhost:8080/"
        },
        "id": "FzdFS4Xf7uGB",
        "outputId": "0e39079c-130c-4b98-bc46-b878f11e0ab4"
      },
      "outputs": [
        {
          "output_type": "stream",
          "name": "stdout",
          "text": [
            "Requirement already satisfied: tensorflow-gpu==1.15.0 in /usr/local/lib/python3.7/dist-packages (1.15.0)\n",
            "Requirement already satisfied: tensorflow==1.15.0 in /usr/local/lib/python3.7/dist-packages (1.15.0)\n",
            "Requirement already satisfied: stable-baselines in /usr/local/lib/python3.7/dist-packages (2.10.2)\n",
            "Requirement already satisfied: gym-anytrading in /usr/local/lib/python3.7/dist-packages (1.2.0)\n",
            "Requirement already satisfied: gym in /usr/local/lib/python3.7/dist-packages (0.17.3)\n",
            "Requirement already satisfied: six>=1.10.0 in /usr/local/lib/python3.7/dist-packages (from tensorflow-gpu==1.15.0) (1.15.0)\n",
            "Requirement already satisfied: tensorboard<1.16.0,>=1.15.0 in /usr/local/lib/python3.7/dist-packages (from tensorflow-gpu==1.15.0) (1.15.0)\n",
            "Requirement already satisfied: grpcio>=1.8.6 in /usr/local/lib/python3.7/dist-packages (from tensorflow-gpu==1.15.0) (1.44.0)\n",
            "Requirement already satisfied: protobuf>=3.6.1 in /usr/local/lib/python3.7/dist-packages (from tensorflow-gpu==1.15.0) (3.17.3)\n",
            "Requirement already satisfied: wrapt>=1.11.1 in /usr/local/lib/python3.7/dist-packages (from tensorflow-gpu==1.15.0) (1.14.0)\n",
            "Requirement already satisfied: keras-applications>=1.0.8 in /usr/local/lib/python3.7/dist-packages (from tensorflow-gpu==1.15.0) (1.0.8)\n",
            "Requirement already satisfied: opt-einsum>=2.3.2 in /usr/local/lib/python3.7/dist-packages (from tensorflow-gpu==1.15.0) (3.3.0)\n",
            "Requirement already satisfied: wheel>=0.26 in /usr/local/lib/python3.7/dist-packages (from tensorflow-gpu==1.15.0) (0.37.1)\n",
            "Requirement already satisfied: tensorflow-estimator==1.15.1 in /usr/local/lib/python3.7/dist-packages (from tensorflow-gpu==1.15.0) (1.15.1)\n",
            "Requirement already satisfied: absl-py>=0.7.0 in /usr/local/lib/python3.7/dist-packages (from tensorflow-gpu==1.15.0) (1.0.0)\n",
            "Requirement already satisfied: google-pasta>=0.1.6 in /usr/local/lib/python3.7/dist-packages (from tensorflow-gpu==1.15.0) (0.2.0)\n",
            "Requirement already satisfied: astor>=0.6.0 in /usr/local/lib/python3.7/dist-packages (from tensorflow-gpu==1.15.0) (0.8.1)\n",
            "Requirement already satisfied: numpy<2.0,>=1.16.0 in /usr/local/lib/python3.7/dist-packages (from tensorflow-gpu==1.15.0) (1.21.6)\n",
            "Requirement already satisfied: keras-preprocessing>=1.0.5 in /usr/local/lib/python3.7/dist-packages (from tensorflow-gpu==1.15.0) (1.1.2)\n",
            "Requirement already satisfied: termcolor>=1.1.0 in /usr/local/lib/python3.7/dist-packages (from tensorflow-gpu==1.15.0) (1.1.0)\n",
            "Requirement already satisfied: gast==0.2.2 in /usr/local/lib/python3.7/dist-packages (from tensorflow-gpu==1.15.0) (0.2.2)\n",
            "Requirement already satisfied: h5py in /usr/local/lib/python3.7/dist-packages (from keras-applications>=1.0.8->tensorflow-gpu==1.15.0) (3.1.0)\n",
            "Requirement already satisfied: markdown>=2.6.8 in /usr/local/lib/python3.7/dist-packages (from tensorboard<1.16.0,>=1.15.0->tensorflow-gpu==1.15.0) (3.3.6)\n",
            "Requirement already satisfied: setuptools>=41.0.0 in /usr/local/lib/python3.7/dist-packages (from tensorboard<1.16.0,>=1.15.0->tensorflow-gpu==1.15.0) (57.4.0)\n",
            "Requirement already satisfied: werkzeug>=0.11.15 in /usr/local/lib/python3.7/dist-packages (from tensorboard<1.16.0,>=1.15.0->tensorflow-gpu==1.15.0) (1.0.1)\n",
            "Requirement already satisfied: importlib-metadata>=4.4 in /usr/local/lib/python3.7/dist-packages (from markdown>=2.6.8->tensorboard<1.16.0,>=1.15.0->tensorflow-gpu==1.15.0) (4.11.3)\n",
            "Requirement already satisfied: zipp>=0.5 in /usr/local/lib/python3.7/dist-packages (from importlib-metadata>=4.4->markdown>=2.6.8->tensorboard<1.16.0,>=1.15.0->tensorflow-gpu==1.15.0) (3.8.0)\n",
            "Requirement already satisfied: typing-extensions>=3.6.4 in /usr/local/lib/python3.7/dist-packages (from importlib-metadata>=4.4->markdown>=2.6.8->tensorboard<1.16.0,>=1.15.0->tensorflow-gpu==1.15.0) (4.2.0)\n",
            "Requirement already satisfied: cloudpickle>=0.5.5 in /usr/local/lib/python3.7/dist-packages (from stable-baselines) (1.3.0)\n",
            "Requirement already satisfied: joblib in /usr/local/lib/python3.7/dist-packages (from stable-baselines) (1.1.0)\n",
            "Requirement already satisfied: matplotlib in /usr/local/lib/python3.7/dist-packages (from stable-baselines) (3.2.2)\n",
            "Requirement already satisfied: pandas in /usr/local/lib/python3.7/dist-packages (from stable-baselines) (1.3.5)\n",
            "Requirement already satisfied: scipy in /usr/local/lib/python3.7/dist-packages (from stable-baselines) (1.4.1)\n",
            "Requirement already satisfied: opencv-python in /usr/local/lib/python3.7/dist-packages (from stable-baselines) (4.1.2.30)\n",
            "Requirement already satisfied: pyglet<=1.5.0,>=1.4.0 in /usr/local/lib/python3.7/dist-packages (from gym) (1.5.0)\n",
            "Requirement already satisfied: atari-py~=0.2.0 in /usr/local/lib/python3.7/dist-packages (from gym) (0.2.9)\n",
            "Requirement already satisfied: Pillow in /usr/local/lib/python3.7/dist-packages (from gym) (7.1.2)\n",
            "Requirement already satisfied: future in /usr/local/lib/python3.7/dist-packages (from pyglet<=1.5.0,>=1.4.0->gym) (0.16.0)\n",
            "Requirement already satisfied: pyparsing!=2.0.4,!=2.1.2,!=2.1.6,>=2.0.1 in /usr/local/lib/python3.7/dist-packages (from matplotlib->stable-baselines) (3.0.8)\n",
            "Requirement already satisfied: python-dateutil>=2.1 in /usr/local/lib/python3.7/dist-packages (from matplotlib->stable-baselines) (2.8.2)\n",
            "Requirement already satisfied: kiwisolver>=1.0.1 in /usr/local/lib/python3.7/dist-packages (from matplotlib->stable-baselines) (1.4.2)\n",
            "Requirement already satisfied: cycler>=0.10 in /usr/local/lib/python3.7/dist-packages (from matplotlib->stable-baselines) (0.11.0)\n",
            "Requirement already satisfied: pytz>=2017.3 in /usr/local/lib/python3.7/dist-packages (from pandas->stable-baselines) (2022.1)\n",
            "Requirement already satisfied: cached-property in /usr/local/lib/python3.7/dist-packages (from h5py->keras-applications>=1.0.8->tensorflow-gpu==1.15.0) (1.5.2)\n"
          ]
        }
      ],
      "source": [
        "pip install tensorflow-gpu==1.15.0 tensorflow==1.15.0 stable-baselines gym-anytrading gym"
      ]
    },
    {
      "cell_type": "code",
      "execution_count": 55,
      "metadata": {
        "id": "pRg-5hYR8f6q"
      },
      "outputs": [],
      "source": [
        "import gym\n",
        "import gym_anytrading\n",
        "\n",
        "from stable_baselines.common.vec_env import DummyVecEnv\n",
        "from stable_baselines import DQN,HER\n",
        "\n",
        "import numpy as np\n",
        "import pandas as pd\n",
        "from matplotlib import pyplot as plt"
      ]
    },
    {
      "cell_type": "code",
      "execution_count": 56,
      "metadata": {
        "colab": {
          "base_uri": "https://localhost:8080/",
          "height": 206
        },
        "id": "-LtR5v3s7y5g",
        "outputId": "22b81c0e-f66f-4cee-a9dd-cfe534d81881"
      },
      "outputs": [
        {
          "output_type": "execute_result",
          "data": {
            "text/plain": [
              "         Date       Open       High        Low      Close  Adj Close  \\\n",
              "0  2019-04-01  47.910000  47.919998  47.095001  47.810001  46.552612   \n",
              "1  2019-04-02  47.772499  48.615002  47.762501  48.505001  47.229336   \n",
              "2  2019-04-03  48.312500  49.125000  48.287498  48.837502  47.553089   \n",
              "3  2019-04-04  48.697498  49.092499  48.285000  48.922501  47.635853   \n",
              "4  2019-04-05  49.112499  49.275002  48.982498  49.250000  47.954746   \n",
              "\n",
              "      Volume  \n",
              "0  111448000  \n",
              "1   91062800  \n",
              "2   93087200  \n",
              "3   76457200  \n",
              "4   74106400  "
            ],
            "text/html": [
              "\n",
              "  <div id=\"df-71c1011e-6dfe-41e3-8ec0-352c8c45c74c\">\n",
              "    <div class=\"colab-df-container\">\n",
              "      <div>\n",
              "<style scoped>\n",
              "    .dataframe tbody tr th:only-of-type {\n",
              "        vertical-align: middle;\n",
              "    }\n",
              "\n",
              "    .dataframe tbody tr th {\n",
              "        vertical-align: top;\n",
              "    }\n",
              "\n",
              "    .dataframe thead th {\n",
              "        text-align: right;\n",
              "    }\n",
              "</style>\n",
              "<table border=\"1\" class=\"dataframe\">\n",
              "  <thead>\n",
              "    <tr style=\"text-align: right;\">\n",
              "      <th></th>\n",
              "      <th>Date</th>\n",
              "      <th>Open</th>\n",
              "      <th>High</th>\n",
              "      <th>Low</th>\n",
              "      <th>Close</th>\n",
              "      <th>Adj Close</th>\n",
              "      <th>Volume</th>\n",
              "    </tr>\n",
              "  </thead>\n",
              "  <tbody>\n",
              "    <tr>\n",
              "      <th>0</th>\n",
              "      <td>2019-04-01</td>\n",
              "      <td>47.910000</td>\n",
              "      <td>47.919998</td>\n",
              "      <td>47.095001</td>\n",
              "      <td>47.810001</td>\n",
              "      <td>46.552612</td>\n",
              "      <td>111448000</td>\n",
              "    </tr>\n",
              "    <tr>\n",
              "      <th>1</th>\n",
              "      <td>2019-04-02</td>\n",
              "      <td>47.772499</td>\n",
              "      <td>48.615002</td>\n",
              "      <td>47.762501</td>\n",
              "      <td>48.505001</td>\n",
              "      <td>47.229336</td>\n",
              "      <td>91062800</td>\n",
              "    </tr>\n",
              "    <tr>\n",
              "      <th>2</th>\n",
              "      <td>2019-04-03</td>\n",
              "      <td>48.312500</td>\n",
              "      <td>49.125000</td>\n",
              "      <td>48.287498</td>\n",
              "      <td>48.837502</td>\n",
              "      <td>47.553089</td>\n",
              "      <td>93087200</td>\n",
              "    </tr>\n",
              "    <tr>\n",
              "      <th>3</th>\n",
              "      <td>2019-04-04</td>\n",
              "      <td>48.697498</td>\n",
              "      <td>49.092499</td>\n",
              "      <td>48.285000</td>\n",
              "      <td>48.922501</td>\n",
              "      <td>47.635853</td>\n",
              "      <td>76457200</td>\n",
              "    </tr>\n",
              "    <tr>\n",
              "      <th>4</th>\n",
              "      <td>2019-04-05</td>\n",
              "      <td>49.112499</td>\n",
              "      <td>49.275002</td>\n",
              "      <td>48.982498</td>\n",
              "      <td>49.250000</td>\n",
              "      <td>47.954746</td>\n",
              "      <td>74106400</td>\n",
              "    </tr>\n",
              "  </tbody>\n",
              "</table>\n",
              "</div>\n",
              "      <button class=\"colab-df-convert\" onclick=\"convertToInteractive('df-71c1011e-6dfe-41e3-8ec0-352c8c45c74c')\"\n",
              "              title=\"Convert this dataframe to an interactive table.\"\n",
              "              style=\"display:none;\">\n",
              "        \n",
              "  <svg xmlns=\"http://www.w3.org/2000/svg\" height=\"24px\"viewBox=\"0 0 24 24\"\n",
              "       width=\"24px\">\n",
              "    <path d=\"M0 0h24v24H0V0z\" fill=\"none\"/>\n",
              "    <path d=\"M18.56 5.44l.94 2.06.94-2.06 2.06-.94-2.06-.94-.94-2.06-.94 2.06-2.06.94zm-11 1L8.5 8.5l.94-2.06 2.06-.94-2.06-.94L8.5 2.5l-.94 2.06-2.06.94zm10 10l.94 2.06.94-2.06 2.06-.94-2.06-.94-.94-2.06-.94 2.06-2.06.94z\"/><path d=\"M17.41 7.96l-1.37-1.37c-.4-.4-.92-.59-1.43-.59-.52 0-1.04.2-1.43.59L10.3 9.45l-7.72 7.72c-.78.78-.78 2.05 0 2.83L4 21.41c.39.39.9.59 1.41.59.51 0 1.02-.2 1.41-.59l7.78-7.78 2.81-2.81c.8-.78.8-2.07 0-2.86zM5.41 20L4 18.59l7.72-7.72 1.47 1.35L5.41 20z\"/>\n",
              "  </svg>\n",
              "      </button>\n",
              "      \n",
              "  <style>\n",
              "    .colab-df-container {\n",
              "      display:flex;\n",
              "      flex-wrap:wrap;\n",
              "      gap: 12px;\n",
              "    }\n",
              "\n",
              "    .colab-df-convert {\n",
              "      background-color: #E8F0FE;\n",
              "      border: none;\n",
              "      border-radius: 50%;\n",
              "      cursor: pointer;\n",
              "      display: none;\n",
              "      fill: #1967D2;\n",
              "      height: 32px;\n",
              "      padding: 0 0 0 0;\n",
              "      width: 32px;\n",
              "    }\n",
              "\n",
              "    .colab-df-convert:hover {\n",
              "      background-color: #E2EBFA;\n",
              "      box-shadow: 0px 1px 2px rgba(60, 64, 67, 0.3), 0px 1px 3px 1px rgba(60, 64, 67, 0.15);\n",
              "      fill: #174EA6;\n",
              "    }\n",
              "\n",
              "    [theme=dark] .colab-df-convert {\n",
              "      background-color: #3B4455;\n",
              "      fill: #D2E3FC;\n",
              "    }\n",
              "\n",
              "    [theme=dark] .colab-df-convert:hover {\n",
              "      background-color: #434B5C;\n",
              "      box-shadow: 0px 1px 3px 1px rgba(0, 0, 0, 0.15);\n",
              "      filter: drop-shadow(0px 1px 2px rgba(0, 0, 0, 0.3));\n",
              "      fill: #FFFFFF;\n",
              "    }\n",
              "  </style>\n",
              "\n",
              "      <script>\n",
              "        const buttonEl =\n",
              "          document.querySelector('#df-71c1011e-6dfe-41e3-8ec0-352c8c45c74c button.colab-df-convert');\n",
              "        buttonEl.style.display =\n",
              "          google.colab.kernel.accessAllowed ? 'block' : 'none';\n",
              "\n",
              "        async function convertToInteractive(key) {\n",
              "          const element = document.querySelector('#df-71c1011e-6dfe-41e3-8ec0-352c8c45c74c');\n",
              "          const dataTable =\n",
              "            await google.colab.kernel.invokeFunction('convertToInteractive',\n",
              "                                                     [key], {});\n",
              "          if (!dataTable) return;\n",
              "\n",
              "          const docLinkHtml = 'Like what you see? Visit the ' +\n",
              "            '<a target=\"_blank\" href=https://colab.research.google.com/notebooks/data_table.ipynb>data table notebook</a>'\n",
              "            + ' to learn more about interactive tables.';\n",
              "          element.innerHTML = '';\n",
              "          dataTable['output_type'] = 'display_data';\n",
              "          await google.colab.output.renderOutput(dataTable, element);\n",
              "          const docLink = document.createElement('div');\n",
              "          docLink.innerHTML = docLinkHtml;\n",
              "          element.appendChild(docLink);\n",
              "        }\n",
              "      </script>\n",
              "    </div>\n",
              "  </div>\n",
              "  "
            ]
          },
          "metadata": {},
          "execution_count": 56
        }
      ],
      "source": [
        "df=pd.read_csv('AAPL (2).csv')\n",
        "df.head()"
      ]
    },
    {
      "cell_type": "code",
      "execution_count": 57,
      "metadata": {
        "colab": {
          "base_uri": "https://localhost:8080/"
        },
        "id": "hLMCy_UI8oFi",
        "outputId": "7f0bd743-916d-4de7-bf13-44dc71eebce7"
      },
      "outputs": [
        {
          "output_type": "execute_result",
          "data": {
            "text/plain": [
              "Date          object\n",
              "Open         float64\n",
              "High         float64\n",
              "Low          float64\n",
              "Close        float64\n",
              "Adj Close    float64\n",
              "Volume         int64\n",
              "dtype: object"
            ]
          },
          "metadata": {},
          "execution_count": 57
        }
      ],
      "source": [
        "df.dtypes"
      ]
    },
    {
      "cell_type": "code",
      "execution_count": 58,
      "metadata": {
        "colab": {
          "base_uri": "https://localhost:8080/",
          "height": 206
        },
        "id": "5tyhYOvQ8-Md",
        "outputId": "6079a7de-b04f-43e7-de3b-a46a10238cc8"
      },
      "outputs": [
        {
          "output_type": "execute_result",
          "data": {
            "text/plain": [
              "        Date       Open       High        Low      Close  Adj Close     Volume\n",
              "0 2019-04-01  47.910000  47.919998  47.095001  47.810001  46.552612  111448000\n",
              "1 2019-04-02  47.772499  48.615002  47.762501  48.505001  47.229336   91062800\n",
              "2 2019-04-03  48.312500  49.125000  48.287498  48.837502  47.553089   93087200\n",
              "3 2019-04-04  48.697498  49.092499  48.285000  48.922501  47.635853   76457200\n",
              "4 2019-04-05  49.112499  49.275002  48.982498  49.250000  47.954746   74106400"
            ],
            "text/html": [
              "\n",
              "  <div id=\"df-2e359f88-0a1b-4943-b18d-c5da19f17180\">\n",
              "    <div class=\"colab-df-container\">\n",
              "      <div>\n",
              "<style scoped>\n",
              "    .dataframe tbody tr th:only-of-type {\n",
              "        vertical-align: middle;\n",
              "    }\n",
              "\n",
              "    .dataframe tbody tr th {\n",
              "        vertical-align: top;\n",
              "    }\n",
              "\n",
              "    .dataframe thead th {\n",
              "        text-align: right;\n",
              "    }\n",
              "</style>\n",
              "<table border=\"1\" class=\"dataframe\">\n",
              "  <thead>\n",
              "    <tr style=\"text-align: right;\">\n",
              "      <th></th>\n",
              "      <th>Date</th>\n",
              "      <th>Open</th>\n",
              "      <th>High</th>\n",
              "      <th>Low</th>\n",
              "      <th>Close</th>\n",
              "      <th>Adj Close</th>\n",
              "      <th>Volume</th>\n",
              "    </tr>\n",
              "  </thead>\n",
              "  <tbody>\n",
              "    <tr>\n",
              "      <th>0</th>\n",
              "      <td>2019-04-01</td>\n",
              "      <td>47.910000</td>\n",
              "      <td>47.919998</td>\n",
              "      <td>47.095001</td>\n",
              "      <td>47.810001</td>\n",
              "      <td>46.552612</td>\n",
              "      <td>111448000</td>\n",
              "    </tr>\n",
              "    <tr>\n",
              "      <th>1</th>\n",
              "      <td>2019-04-02</td>\n",
              "      <td>47.772499</td>\n",
              "      <td>48.615002</td>\n",
              "      <td>47.762501</td>\n",
              "      <td>48.505001</td>\n",
              "      <td>47.229336</td>\n",
              "      <td>91062800</td>\n",
              "    </tr>\n",
              "    <tr>\n",
              "      <th>2</th>\n",
              "      <td>2019-04-03</td>\n",
              "      <td>48.312500</td>\n",
              "      <td>49.125000</td>\n",
              "      <td>48.287498</td>\n",
              "      <td>48.837502</td>\n",
              "      <td>47.553089</td>\n",
              "      <td>93087200</td>\n",
              "    </tr>\n",
              "    <tr>\n",
              "      <th>3</th>\n",
              "      <td>2019-04-04</td>\n",
              "      <td>48.697498</td>\n",
              "      <td>49.092499</td>\n",
              "      <td>48.285000</td>\n",
              "      <td>48.922501</td>\n",
              "      <td>47.635853</td>\n",
              "      <td>76457200</td>\n",
              "    </tr>\n",
              "    <tr>\n",
              "      <th>4</th>\n",
              "      <td>2019-04-05</td>\n",
              "      <td>49.112499</td>\n",
              "      <td>49.275002</td>\n",
              "      <td>48.982498</td>\n",
              "      <td>49.250000</td>\n",
              "      <td>47.954746</td>\n",
              "      <td>74106400</td>\n",
              "    </tr>\n",
              "  </tbody>\n",
              "</table>\n",
              "</div>\n",
              "      <button class=\"colab-df-convert\" onclick=\"convertToInteractive('df-2e359f88-0a1b-4943-b18d-c5da19f17180')\"\n",
              "              title=\"Convert this dataframe to an interactive table.\"\n",
              "              style=\"display:none;\">\n",
              "        \n",
              "  <svg xmlns=\"http://www.w3.org/2000/svg\" height=\"24px\"viewBox=\"0 0 24 24\"\n",
              "       width=\"24px\">\n",
              "    <path d=\"M0 0h24v24H0V0z\" fill=\"none\"/>\n",
              "    <path d=\"M18.56 5.44l.94 2.06.94-2.06 2.06-.94-2.06-.94-.94-2.06-.94 2.06-2.06.94zm-11 1L8.5 8.5l.94-2.06 2.06-.94-2.06-.94L8.5 2.5l-.94 2.06-2.06.94zm10 10l.94 2.06.94-2.06 2.06-.94-2.06-.94-.94-2.06-.94 2.06-2.06.94z\"/><path d=\"M17.41 7.96l-1.37-1.37c-.4-.4-.92-.59-1.43-.59-.52 0-1.04.2-1.43.59L10.3 9.45l-7.72 7.72c-.78.78-.78 2.05 0 2.83L4 21.41c.39.39.9.59 1.41.59.51 0 1.02-.2 1.41-.59l7.78-7.78 2.81-2.81c.8-.78.8-2.07 0-2.86zM5.41 20L4 18.59l7.72-7.72 1.47 1.35L5.41 20z\"/>\n",
              "  </svg>\n",
              "      </button>\n",
              "      \n",
              "  <style>\n",
              "    .colab-df-container {\n",
              "      display:flex;\n",
              "      flex-wrap:wrap;\n",
              "      gap: 12px;\n",
              "    }\n",
              "\n",
              "    .colab-df-convert {\n",
              "      background-color: #E8F0FE;\n",
              "      border: none;\n",
              "      border-radius: 50%;\n",
              "      cursor: pointer;\n",
              "      display: none;\n",
              "      fill: #1967D2;\n",
              "      height: 32px;\n",
              "      padding: 0 0 0 0;\n",
              "      width: 32px;\n",
              "    }\n",
              "\n",
              "    .colab-df-convert:hover {\n",
              "      background-color: #E2EBFA;\n",
              "      box-shadow: 0px 1px 2px rgba(60, 64, 67, 0.3), 0px 1px 3px 1px rgba(60, 64, 67, 0.15);\n",
              "      fill: #174EA6;\n",
              "    }\n",
              "\n",
              "    [theme=dark] .colab-df-convert {\n",
              "      background-color: #3B4455;\n",
              "      fill: #D2E3FC;\n",
              "    }\n",
              "\n",
              "    [theme=dark] .colab-df-convert:hover {\n",
              "      background-color: #434B5C;\n",
              "      box-shadow: 0px 1px 3px 1px rgba(0, 0, 0, 0.15);\n",
              "      filter: drop-shadow(0px 1px 2px rgba(0, 0, 0, 0.3));\n",
              "      fill: #FFFFFF;\n",
              "    }\n",
              "  </style>\n",
              "\n",
              "      <script>\n",
              "        const buttonEl =\n",
              "          document.querySelector('#df-2e359f88-0a1b-4943-b18d-c5da19f17180 button.colab-df-convert');\n",
              "        buttonEl.style.display =\n",
              "          google.colab.kernel.accessAllowed ? 'block' : 'none';\n",
              "\n",
              "        async function convertToInteractive(key) {\n",
              "          const element = document.querySelector('#df-2e359f88-0a1b-4943-b18d-c5da19f17180');\n",
              "          const dataTable =\n",
              "            await google.colab.kernel.invokeFunction('convertToInteractive',\n",
              "                                                     [key], {});\n",
              "          if (!dataTable) return;\n",
              "\n",
              "          const docLinkHtml = 'Like what you see? Visit the ' +\n",
              "            '<a target=\"_blank\" href=https://colab.research.google.com/notebooks/data_table.ipynb>data table notebook</a>'\n",
              "            + ' to learn more about interactive tables.';\n",
              "          element.innerHTML = '';\n",
              "          dataTable['output_type'] = 'display_data';\n",
              "          await google.colab.output.renderOutput(dataTable, element);\n",
              "          const docLink = document.createElement('div');\n",
              "          docLink.innerHTML = docLinkHtml;\n",
              "          element.appendChild(docLink);\n",
              "        }\n",
              "      </script>\n",
              "    </div>\n",
              "  </div>\n",
              "  "
            ]
          },
          "metadata": {},
          "execution_count": 58
        }
      ],
      "source": [
        "df['Date']=pd.to_datetime(df['Date'])\n",
        "df.dtypes\n",
        "df.sort_values('Date',ascending=True,inplace=True)\n",
        "df.head()"
      ]
    },
    {
      "cell_type": "code",
      "execution_count": 59,
      "metadata": {
        "colab": {
          "base_uri": "https://localhost:8080/",
          "height": 237
        },
        "id": "VpJE3blU-B5R",
        "outputId": "bf4f02d0-739d-4483-f000-759f24704ee5"
      },
      "outputs": [
        {
          "output_type": "execute_result",
          "data": {
            "text/plain": [
              "                 Open       High        Low      Close  Adj Close     Volume\n",
              "Date                                                                        \n",
              "2019-04-01  47.910000  47.919998  47.095001  47.810001  46.552612  111448000\n",
              "2019-04-02  47.772499  48.615002  47.762501  48.505001  47.229336   91062800\n",
              "2019-04-03  48.312500  49.125000  48.287498  48.837502  47.553089   93087200\n",
              "2019-04-04  48.697498  49.092499  48.285000  48.922501  47.635853   76457200\n",
              "2019-04-05  49.112499  49.275002  48.982498  49.250000  47.954746   74106400"
            ],
            "text/html": [
              "\n",
              "  <div id=\"df-06c68ac9-05cb-489a-84fe-f04082e2a05b\">\n",
              "    <div class=\"colab-df-container\">\n",
              "      <div>\n",
              "<style scoped>\n",
              "    .dataframe tbody tr th:only-of-type {\n",
              "        vertical-align: middle;\n",
              "    }\n",
              "\n",
              "    .dataframe tbody tr th {\n",
              "        vertical-align: top;\n",
              "    }\n",
              "\n",
              "    .dataframe thead th {\n",
              "        text-align: right;\n",
              "    }\n",
              "</style>\n",
              "<table border=\"1\" class=\"dataframe\">\n",
              "  <thead>\n",
              "    <tr style=\"text-align: right;\">\n",
              "      <th></th>\n",
              "      <th>Open</th>\n",
              "      <th>High</th>\n",
              "      <th>Low</th>\n",
              "      <th>Close</th>\n",
              "      <th>Adj Close</th>\n",
              "      <th>Volume</th>\n",
              "    </tr>\n",
              "    <tr>\n",
              "      <th>Date</th>\n",
              "      <th></th>\n",
              "      <th></th>\n",
              "      <th></th>\n",
              "      <th></th>\n",
              "      <th></th>\n",
              "      <th></th>\n",
              "    </tr>\n",
              "  </thead>\n",
              "  <tbody>\n",
              "    <tr>\n",
              "      <th>2019-04-01</th>\n",
              "      <td>47.910000</td>\n",
              "      <td>47.919998</td>\n",
              "      <td>47.095001</td>\n",
              "      <td>47.810001</td>\n",
              "      <td>46.552612</td>\n",
              "      <td>111448000</td>\n",
              "    </tr>\n",
              "    <tr>\n",
              "      <th>2019-04-02</th>\n",
              "      <td>47.772499</td>\n",
              "      <td>48.615002</td>\n",
              "      <td>47.762501</td>\n",
              "      <td>48.505001</td>\n",
              "      <td>47.229336</td>\n",
              "      <td>91062800</td>\n",
              "    </tr>\n",
              "    <tr>\n",
              "      <th>2019-04-03</th>\n",
              "      <td>48.312500</td>\n",
              "      <td>49.125000</td>\n",
              "      <td>48.287498</td>\n",
              "      <td>48.837502</td>\n",
              "      <td>47.553089</td>\n",
              "      <td>93087200</td>\n",
              "    </tr>\n",
              "    <tr>\n",
              "      <th>2019-04-04</th>\n",
              "      <td>48.697498</td>\n",
              "      <td>49.092499</td>\n",
              "      <td>48.285000</td>\n",
              "      <td>48.922501</td>\n",
              "      <td>47.635853</td>\n",
              "      <td>76457200</td>\n",
              "    </tr>\n",
              "    <tr>\n",
              "      <th>2019-04-05</th>\n",
              "      <td>49.112499</td>\n",
              "      <td>49.275002</td>\n",
              "      <td>48.982498</td>\n",
              "      <td>49.250000</td>\n",
              "      <td>47.954746</td>\n",
              "      <td>74106400</td>\n",
              "    </tr>\n",
              "  </tbody>\n",
              "</table>\n",
              "</div>\n",
              "      <button class=\"colab-df-convert\" onclick=\"convertToInteractive('df-06c68ac9-05cb-489a-84fe-f04082e2a05b')\"\n",
              "              title=\"Convert this dataframe to an interactive table.\"\n",
              "              style=\"display:none;\">\n",
              "        \n",
              "  <svg xmlns=\"http://www.w3.org/2000/svg\" height=\"24px\"viewBox=\"0 0 24 24\"\n",
              "       width=\"24px\">\n",
              "    <path d=\"M0 0h24v24H0V0z\" fill=\"none\"/>\n",
              "    <path d=\"M18.56 5.44l.94 2.06.94-2.06 2.06-.94-2.06-.94-.94-2.06-.94 2.06-2.06.94zm-11 1L8.5 8.5l.94-2.06 2.06-.94-2.06-.94L8.5 2.5l-.94 2.06-2.06.94zm10 10l.94 2.06.94-2.06 2.06-.94-2.06-.94-.94-2.06-.94 2.06-2.06.94z\"/><path d=\"M17.41 7.96l-1.37-1.37c-.4-.4-.92-.59-1.43-.59-.52 0-1.04.2-1.43.59L10.3 9.45l-7.72 7.72c-.78.78-.78 2.05 0 2.83L4 21.41c.39.39.9.59 1.41.59.51 0 1.02-.2 1.41-.59l7.78-7.78 2.81-2.81c.8-.78.8-2.07 0-2.86zM5.41 20L4 18.59l7.72-7.72 1.47 1.35L5.41 20z\"/>\n",
              "  </svg>\n",
              "      </button>\n",
              "      \n",
              "  <style>\n",
              "    .colab-df-container {\n",
              "      display:flex;\n",
              "      flex-wrap:wrap;\n",
              "      gap: 12px;\n",
              "    }\n",
              "\n",
              "    .colab-df-convert {\n",
              "      background-color: #E8F0FE;\n",
              "      border: none;\n",
              "      border-radius: 50%;\n",
              "      cursor: pointer;\n",
              "      display: none;\n",
              "      fill: #1967D2;\n",
              "      height: 32px;\n",
              "      padding: 0 0 0 0;\n",
              "      width: 32px;\n",
              "    }\n",
              "\n",
              "    .colab-df-convert:hover {\n",
              "      background-color: #E2EBFA;\n",
              "      box-shadow: 0px 1px 2px rgba(60, 64, 67, 0.3), 0px 1px 3px 1px rgba(60, 64, 67, 0.15);\n",
              "      fill: #174EA6;\n",
              "    }\n",
              "\n",
              "    [theme=dark] .colab-df-convert {\n",
              "      background-color: #3B4455;\n",
              "      fill: #D2E3FC;\n",
              "    }\n",
              "\n",
              "    [theme=dark] .colab-df-convert:hover {\n",
              "      background-color: #434B5C;\n",
              "      box-shadow: 0px 1px 3px 1px rgba(0, 0, 0, 0.15);\n",
              "      filter: drop-shadow(0px 1px 2px rgba(0, 0, 0, 0.3));\n",
              "      fill: #FFFFFF;\n",
              "    }\n",
              "  </style>\n",
              "\n",
              "      <script>\n",
              "        const buttonEl =\n",
              "          document.querySelector('#df-06c68ac9-05cb-489a-84fe-f04082e2a05b button.colab-df-convert');\n",
              "        buttonEl.style.display =\n",
              "          google.colab.kernel.accessAllowed ? 'block' : 'none';\n",
              "\n",
              "        async function convertToInteractive(key) {\n",
              "          const element = document.querySelector('#df-06c68ac9-05cb-489a-84fe-f04082e2a05b');\n",
              "          const dataTable =\n",
              "            await google.colab.kernel.invokeFunction('convertToInteractive',\n",
              "                                                     [key], {});\n",
              "          if (!dataTable) return;\n",
              "\n",
              "          const docLinkHtml = 'Like what you see? Visit the ' +\n",
              "            '<a target=\"_blank\" href=https://colab.research.google.com/notebooks/data_table.ipynb>data table notebook</a>'\n",
              "            + ' to learn more about interactive tables.';\n",
              "          element.innerHTML = '';\n",
              "          dataTable['output_type'] = 'display_data';\n",
              "          await google.colab.output.renderOutput(dataTable, element);\n",
              "          const docLink = document.createElement('div');\n",
              "          docLink.innerHTML = docLinkHtml;\n",
              "          element.appendChild(docLink);\n",
              "        }\n",
              "      </script>\n",
              "    </div>\n",
              "  </div>\n",
              "  "
            ]
          },
          "metadata": {},
          "execution_count": 59
        }
      ],
      "source": [
        "df.set_index('Date',inplace=True)\n",
        "df.head()"
      ]
    },
    {
      "cell_type": "code",
      "execution_count": 60,
      "metadata": {
        "colab": {
          "base_uri": "https://localhost:8080/"
        },
        "id": "_IqSFrfHReE7",
        "outputId": "5b430143-5370-41d0-f2a3-5050510342cf"
      },
      "outputs": [
        {
          "output_type": "stream",
          "name": "stdout",
          "text": [
            "Requirement already satisfied: finta in /usr/local/lib/python3.7/dist-packages (1.3)\n",
            "Requirement already satisfied: numpy in /usr/local/lib/python3.7/dist-packages (from finta) (1.21.6)\n",
            "Requirement already satisfied: pandas in /usr/local/lib/python3.7/dist-packages (from finta) (1.3.5)\n",
            "Requirement already satisfied: pytz>=2017.3 in /usr/local/lib/python3.7/dist-packages (from pandas->finta) (2022.1)\n",
            "Requirement already satisfied: python-dateutil>=2.7.3 in /usr/local/lib/python3.7/dist-packages (from pandas->finta) (2.8.2)\n",
            "Requirement already satisfied: six>=1.5 in /usr/local/lib/python3.7/dist-packages (from python-dateutil>=2.7.3->pandas->finta) (1.15.0)\n"
          ]
        }
      ],
      "source": [
        "!pip install finta"
      ]
    },
    {
      "cell_type": "code",
      "execution_count": 61,
      "metadata": {
        "id": "h8pMIqY4RfxN"
      },
      "outputs": [],
      "source": [
        "from gym_anytrading.envs import StocksEnv\n",
        "from finta import TA"
      ]
    },
    {
      "cell_type": "code",
      "execution_count": 62,
      "metadata": {
        "id": "Ld1CoJZ9SZWp"
      },
      "outputs": [],
      "source": [
        "df['SMA']=TA.SMA(df,12)\n",
        "df['RSI']=TA.RSI(df)\n",
        "df['EMA']=TA.EMA(df)\n",
        "df['STOCH']=TA.STOCH(df)\n",
        "df['SMM']=TA.SMM(df)\n",
        "df['ADX']=TA.ADX(df)\n",
        "df['SSMA']=TA.SSMA(df)\n",
        "df['AveragePrice']=(df['Low']+df['High'])/2\n",
        "\n"
      ]
    },
    {
      "cell_type": "code",
      "execution_count": 63,
      "metadata": {
        "id": "xCAPPeG1hBAm"
      },
      "outputs": [],
      "source": [
        "mean=df['AveragePrice'].mean()"
      ]
    },
    {
      "cell_type": "code",
      "execution_count": 64,
      "metadata": {
        "colab": {
          "base_uri": "https://localhost:8080/",
          "height": 281
        },
        "id": "dCKvhEaHWZAR",
        "outputId": "06da9dd4-d1c5-4eb9-c904-2576f6413a7a"
      },
      "outputs": [
        {
          "output_type": "execute_result",
          "data": {
            "text/plain": [
              "                 Open       High        Low      Close  Adj Close     Volume  \\\n",
              "Date                                                                           \n",
              "2019-04-01  47.910000  47.919998  47.095001  47.810001  46.552612  111448000   \n",
              "2019-04-02  47.772499  48.615002  47.762501  48.505001  47.229336   91062800   \n",
              "2019-04-03  48.312500  49.125000  48.287498  48.837502  47.553089   93087200   \n",
              "2019-04-04  48.697498  49.092499  48.285000  48.922501  47.635853   76457200   \n",
              "2019-04-05  49.112499  49.275002  48.982498  49.250000  47.954746   74106400   \n",
              "\n",
              "            SMA    RSI        EMA  STOCH  SMM  ADX       SSMA  AveragePrice  \n",
              "Date                                                                         \n",
              "2019-04-01  0.0    0.0  47.810001    0.0  0.0  0.0  47.810001     47.507500  \n",
              "2019-04-02  0.0  100.0  48.196112    0.0  0.0  0.0  48.177942     48.188751  \n",
              "2019-04-03  0.0  100.0  48.458977    0.0  0.0  0.0  48.424137     48.706249  \n",
              "2019-04-04  0.0  100.0  48.615997    0.0  0.0  0.0  48.571524     48.688750  \n",
              "2019-04-05  0.0  100.0  48.804599    0.0  0.0  0.0  48.740904     49.128750  "
            ],
            "text/html": [
              "\n",
              "  <div id=\"df-6cf7980a-ce9f-4144-b28f-727214038c21\">\n",
              "    <div class=\"colab-df-container\">\n",
              "      <div>\n",
              "<style scoped>\n",
              "    .dataframe tbody tr th:only-of-type {\n",
              "        vertical-align: middle;\n",
              "    }\n",
              "\n",
              "    .dataframe tbody tr th {\n",
              "        vertical-align: top;\n",
              "    }\n",
              "\n",
              "    .dataframe thead th {\n",
              "        text-align: right;\n",
              "    }\n",
              "</style>\n",
              "<table border=\"1\" class=\"dataframe\">\n",
              "  <thead>\n",
              "    <tr style=\"text-align: right;\">\n",
              "      <th></th>\n",
              "      <th>Open</th>\n",
              "      <th>High</th>\n",
              "      <th>Low</th>\n",
              "      <th>Close</th>\n",
              "      <th>Adj Close</th>\n",
              "      <th>Volume</th>\n",
              "      <th>SMA</th>\n",
              "      <th>RSI</th>\n",
              "      <th>EMA</th>\n",
              "      <th>STOCH</th>\n",
              "      <th>SMM</th>\n",
              "      <th>ADX</th>\n",
              "      <th>SSMA</th>\n",
              "      <th>AveragePrice</th>\n",
              "    </tr>\n",
              "    <tr>\n",
              "      <th>Date</th>\n",
              "      <th></th>\n",
              "      <th></th>\n",
              "      <th></th>\n",
              "      <th></th>\n",
              "      <th></th>\n",
              "      <th></th>\n",
              "      <th></th>\n",
              "      <th></th>\n",
              "      <th></th>\n",
              "      <th></th>\n",
              "      <th></th>\n",
              "      <th></th>\n",
              "      <th></th>\n",
              "      <th></th>\n",
              "    </tr>\n",
              "  </thead>\n",
              "  <tbody>\n",
              "    <tr>\n",
              "      <th>2019-04-01</th>\n",
              "      <td>47.910000</td>\n",
              "      <td>47.919998</td>\n",
              "      <td>47.095001</td>\n",
              "      <td>47.810001</td>\n",
              "      <td>46.552612</td>\n",
              "      <td>111448000</td>\n",
              "      <td>0.0</td>\n",
              "      <td>0.0</td>\n",
              "      <td>47.810001</td>\n",
              "      <td>0.0</td>\n",
              "      <td>0.0</td>\n",
              "      <td>0.0</td>\n",
              "      <td>47.810001</td>\n",
              "      <td>47.507500</td>\n",
              "    </tr>\n",
              "    <tr>\n",
              "      <th>2019-04-02</th>\n",
              "      <td>47.772499</td>\n",
              "      <td>48.615002</td>\n",
              "      <td>47.762501</td>\n",
              "      <td>48.505001</td>\n",
              "      <td>47.229336</td>\n",
              "      <td>91062800</td>\n",
              "      <td>0.0</td>\n",
              "      <td>100.0</td>\n",
              "      <td>48.196112</td>\n",
              "      <td>0.0</td>\n",
              "      <td>0.0</td>\n",
              "      <td>0.0</td>\n",
              "      <td>48.177942</td>\n",
              "      <td>48.188751</td>\n",
              "    </tr>\n",
              "    <tr>\n",
              "      <th>2019-04-03</th>\n",
              "      <td>48.312500</td>\n",
              "      <td>49.125000</td>\n",
              "      <td>48.287498</td>\n",
              "      <td>48.837502</td>\n",
              "      <td>47.553089</td>\n",
              "      <td>93087200</td>\n",
              "      <td>0.0</td>\n",
              "      <td>100.0</td>\n",
              "      <td>48.458977</td>\n",
              "      <td>0.0</td>\n",
              "      <td>0.0</td>\n",
              "      <td>0.0</td>\n",
              "      <td>48.424137</td>\n",
              "      <td>48.706249</td>\n",
              "    </tr>\n",
              "    <tr>\n",
              "      <th>2019-04-04</th>\n",
              "      <td>48.697498</td>\n",
              "      <td>49.092499</td>\n",
              "      <td>48.285000</td>\n",
              "      <td>48.922501</td>\n",
              "      <td>47.635853</td>\n",
              "      <td>76457200</td>\n",
              "      <td>0.0</td>\n",
              "      <td>100.0</td>\n",
              "      <td>48.615997</td>\n",
              "      <td>0.0</td>\n",
              "      <td>0.0</td>\n",
              "      <td>0.0</td>\n",
              "      <td>48.571524</td>\n",
              "      <td>48.688750</td>\n",
              "    </tr>\n",
              "    <tr>\n",
              "      <th>2019-04-05</th>\n",
              "      <td>49.112499</td>\n",
              "      <td>49.275002</td>\n",
              "      <td>48.982498</td>\n",
              "      <td>49.250000</td>\n",
              "      <td>47.954746</td>\n",
              "      <td>74106400</td>\n",
              "      <td>0.0</td>\n",
              "      <td>100.0</td>\n",
              "      <td>48.804599</td>\n",
              "      <td>0.0</td>\n",
              "      <td>0.0</td>\n",
              "      <td>0.0</td>\n",
              "      <td>48.740904</td>\n",
              "      <td>49.128750</td>\n",
              "    </tr>\n",
              "  </tbody>\n",
              "</table>\n",
              "</div>\n",
              "      <button class=\"colab-df-convert\" onclick=\"convertToInteractive('df-6cf7980a-ce9f-4144-b28f-727214038c21')\"\n",
              "              title=\"Convert this dataframe to an interactive table.\"\n",
              "              style=\"display:none;\">\n",
              "        \n",
              "  <svg xmlns=\"http://www.w3.org/2000/svg\" height=\"24px\"viewBox=\"0 0 24 24\"\n",
              "       width=\"24px\">\n",
              "    <path d=\"M0 0h24v24H0V0z\" fill=\"none\"/>\n",
              "    <path d=\"M18.56 5.44l.94 2.06.94-2.06 2.06-.94-2.06-.94-.94-2.06-.94 2.06-2.06.94zm-11 1L8.5 8.5l.94-2.06 2.06-.94-2.06-.94L8.5 2.5l-.94 2.06-2.06.94zm10 10l.94 2.06.94-2.06 2.06-.94-2.06-.94-.94-2.06-.94 2.06-2.06.94z\"/><path d=\"M17.41 7.96l-1.37-1.37c-.4-.4-.92-.59-1.43-.59-.52 0-1.04.2-1.43.59L10.3 9.45l-7.72 7.72c-.78.78-.78 2.05 0 2.83L4 21.41c.39.39.9.59 1.41.59.51 0 1.02-.2 1.41-.59l7.78-7.78 2.81-2.81c.8-.78.8-2.07 0-2.86zM5.41 20L4 18.59l7.72-7.72 1.47 1.35L5.41 20z\"/>\n",
              "  </svg>\n",
              "      </button>\n",
              "      \n",
              "  <style>\n",
              "    .colab-df-container {\n",
              "      display:flex;\n",
              "      flex-wrap:wrap;\n",
              "      gap: 12px;\n",
              "    }\n",
              "\n",
              "    .colab-df-convert {\n",
              "      background-color: #E8F0FE;\n",
              "      border: none;\n",
              "      border-radius: 50%;\n",
              "      cursor: pointer;\n",
              "      display: none;\n",
              "      fill: #1967D2;\n",
              "      height: 32px;\n",
              "      padding: 0 0 0 0;\n",
              "      width: 32px;\n",
              "    }\n",
              "\n",
              "    .colab-df-convert:hover {\n",
              "      background-color: #E2EBFA;\n",
              "      box-shadow: 0px 1px 2px rgba(60, 64, 67, 0.3), 0px 1px 3px 1px rgba(60, 64, 67, 0.15);\n",
              "      fill: #174EA6;\n",
              "    }\n",
              "\n",
              "    [theme=dark] .colab-df-convert {\n",
              "      background-color: #3B4455;\n",
              "      fill: #D2E3FC;\n",
              "    }\n",
              "\n",
              "    [theme=dark] .colab-df-convert:hover {\n",
              "      background-color: #434B5C;\n",
              "      box-shadow: 0px 1px 3px 1px rgba(0, 0, 0, 0.15);\n",
              "      filter: drop-shadow(0px 1px 2px rgba(0, 0, 0, 0.3));\n",
              "      fill: #FFFFFF;\n",
              "    }\n",
              "  </style>\n",
              "\n",
              "      <script>\n",
              "        const buttonEl =\n",
              "          document.querySelector('#df-6cf7980a-ce9f-4144-b28f-727214038c21 button.colab-df-convert');\n",
              "        buttonEl.style.display =\n",
              "          google.colab.kernel.accessAllowed ? 'block' : 'none';\n",
              "\n",
              "        async function convertToInteractive(key) {\n",
              "          const element = document.querySelector('#df-6cf7980a-ce9f-4144-b28f-727214038c21');\n",
              "          const dataTable =\n",
              "            await google.colab.kernel.invokeFunction('convertToInteractive',\n",
              "                                                     [key], {});\n",
              "          if (!dataTable) return;\n",
              "\n",
              "          const docLinkHtml = 'Like what you see? Visit the ' +\n",
              "            '<a target=\"_blank\" href=https://colab.research.google.com/notebooks/data_table.ipynb>data table notebook</a>'\n",
              "            + ' to learn more about interactive tables.';\n",
              "          element.innerHTML = '';\n",
              "          dataTable['output_type'] = 'display_data';\n",
              "          await google.colab.output.renderOutput(dataTable, element);\n",
              "          const docLink = document.createElement('div');\n",
              "          docLink.innerHTML = docLinkHtml;\n",
              "          element.appendChild(docLink);\n",
              "        }\n",
              "      </script>\n",
              "    </div>\n",
              "  </div>\n",
              "  "
            ]
          },
          "metadata": {},
          "execution_count": 64
        }
      ],
      "source": [
        "df.fillna(0,inplace=True)\n",
        "df.head()"
      ]
    },
    {
      "cell_type": "code",
      "execution_count": 65,
      "metadata": {
        "colab": {
          "base_uri": "https://localhost:8080/",
          "height": 281
        },
        "id": "QCHVpLOVUEYG",
        "outputId": "1882d8b7-4c6b-41ef-be9a-52b52fa0c641"
      },
      "outputs": [
        {
          "output_type": "display_data",
          "data": {
            "text/plain": [
              "<Figure size 432x288 with 1 Axes>"
            ],
            "image/png": "[encoded data removed]"
          },
          "metadata": {
            "needs_background": "light"
          }
        }
      ],
      "source": [
        "_=plt.boxplot(df.AveragePrice,vert=False)\n",
        "_=plt.title('Boxplot')"
      ]
    },
    {
      "cell_type": "code",
      "execution_count": 66,
      "metadata": {
        "id": "9hEWODFHVN_I"
      },
      "outputs": [],
      "source": [
        "q_low = df[\"AveragePrice\"].quantile(0.01)\n",
        "q_hi  = df[\"AveragePrice\"].quantile(0.99)\n",
        "\n",
        "df_filtered = df[(df[\"AveragePrice\"] < q_hi) & (df[\"AveragePrice\"] > q_low)]"
      ]
    },
    {
      "cell_type": "code",
      "execution_count": 66,
      "metadata": {
        "id": "k9PCDPubVOQf"
      },
      "outputs": [],
      "source": [
        ""
      ]
    },
    {
      "cell_type": "code",
      "execution_count": 66,
      "metadata": {
        "id": "kzT5fMChVOd4"
      },
      "outputs": [],
      "source": [
        ""
      ]
    },
    {
      "cell_type": "code",
      "execution_count": 66,
      "metadata": {
        "id": "710jrqFHVOs_"
      },
      "outputs": [],
      "source": [
        ""
      ]
    },
    {
      "cell_type": "code",
      "execution_count": 67,
      "metadata": {
        "id": "lg1iNSSlWZlT"
      },
      "outputs": [],
      "source": [
        "def add_signals(env):\n",
        "  start=env.frame_bound[0]-env.window_size\n",
        "  end=env.frame_bound[1]\n",
        "  prices=env.df.loc[:,'AveragePrice'].to_numpy()[start:end]\n",
        "  signal_features=env.df.loc[:,['AveragePrice','Volume','SMA','RSI','EMA','STOCH','SMM','ADX','SSMA']].to_numpy()[start:end]\n",
        "  return prices,signal_features\n"
      ]
    },
    {
      "cell_type": "code",
      "execution_count": 68,
      "metadata": {
        "id": "akncE-Syerpo"
      },
      "outputs": [],
      "source": [
        "class MyCustomEnv(StocksEnv):\n",
        "  _process_data=add_signals\n",
        "\n",
        "env2=MyCustomEnv(df=df,window_size=12,frame_bound=(12,300))"
      ]
    },
    {
      "cell_type": "code",
      "execution_count": 69,
      "metadata": {
        "colab": {
          "base_uri": "https://localhost:8080/"
        },
        "id": "vMtq876TglOw",
        "outputId": "912325b3-9c4f-40cc-8a29-c4263c201edd"
      },
      "outputs": [
        {
          "output_type": "execute_result",
          "data": {
            "text/plain": [
              "array([47.5074995, 48.1887515, 48.706249 , 48.6887495, 49.12875  ,\n",
              "       49.571249 , 50.2600005, 49.8649995, 49.9300005, 49.543751 ,\n",
              "       49.7325005, 49.991249 , 50.2487505, 50.8337495, 50.91     ,\n",
              "       51.456249 , 51.94125  , 51.609999 , 50.8899995, 51.22875  ,\n",
              "       50.313749 , 53.067499 , 52.5974995, 52.758749 , 51.5424995,\n",
              "       51.03125  , 50.8862495, 49.7924995, 48.9525015, 46.5412505,\n",
              "       46.88875  , 47.2212505, 47.6637495, 47.2074985, 45.578751 ,\n",
              "       46.5874995, 46.0325015, 44.7937485, 45.0949995, 44.8125   ,\n",
              "       44.418751 , 44.4874995, 44.122501 , 43.5237505, 44.2937505,\n",
              "       45.7662505, 45.952499 , 47.2112505, 48.373749 , 48.700001 ,\n",
              "       48.67     , 48.79875  , 47.98625  , 48.391251 , 49.4375   ,\n",
              "       49.64875  , 49.83     , 49.875    , 49.7912505, 49.3187485,\n",
              "       49.7925015, 50.142502 , 49.5687505, 50.6424995, 50.5612505,\n",
              "       50.891251 , 50.997499 , 49.9762495, 50.039999 , 50.661249 ,\n",
              "       50.762501 , 50.7749995, 51.2337495, 51.20125  , 51.045    ,\n",
              "       51.1975   , 51.1075   , 51.3549995, 52.0249995, 52.039999 ,\n",
              "       51.99625  , 52.1087495, 52.3850005, 52.18375  , 54.08375  ,\n",
              "       53.0962505, 51.0074995, 48.903749 , 49.01375  , 49.1725005,\n",
              "       50.365    , 50.2562485, 50.1499995, 51.5774995, 51.12875  ,\n",
              "       50.60125  , 51.375    , 52.8449995, 52.958752 , 53.15625  ,\n",
              "       53.1487505, 51.6312505, 51.53125  , 51.5100005, 51.130001 ,\n",
              "       51.9975015, 52.206249 , 51.3999995, 52.1000005, 53.1849995,\n",
              "       53.3662495, 53.4387515, 53.561251 , 55.1800005, 56.16     ,\n",
              "       54.7262495, 54.71125  , 54.9925005, 55.2862515, 55.516249 ,\n",
              "       55.0037495, 54.6862485, 54.960001 , 54.83     , 54.9712505,\n",
              "       54.780001 , 55.671249 , 56.5524995, 55.188749 , 54.5112515,\n",
              "       56.4225005, 56.9712485, 56.5487495, 56.678749 , 57.217501 ,\n",
              "       58.7437495, 59.1000005, 59.0662495, 58.555    , 58.7087495,\n",
              "       58.983749 , 59.7887515, 60.227499 , 60.5575005, 60.82625  ,\n",
              "       61.20125  , 61.99625  , 61.540001 , 60.8137515, 60.8037495,\n",
              "       63.1362495, 64.1537515, 64.3137515, 64.1074985, 64.807499 ,\n",
              "       64.6612515, 65.09375  , 65.4637525, 65.731251 , 65.8725015,\n",
              "       66.098751 , 66.4575005, 66.673752 , 65.8099975, 65.64875  ,\n",
              "       65.5024985, 66.119999 , 66.2075005, 66.661251 , 66.737499 ,\n",
              "       66.4625015, 64.477501 , 65.4987485, 66.0775035, 67.2874985,\n",
              "       66.963749 , 66.991249 , 67.450001 , 67.4850005, 68.2787475,\n",
              "       69.7212525, 70.071247 , 70.1274985, 70.0162505, 70.1512485,\n",
              "       70.5774995, 70.9762535, 71.835003 , 72.7612495, 72.2387505,\n",
              "       72.8999975, 74.4737515, 74.6349985, 74.088749 , 74.7975005,\n",
              "       75.200001 , 77.0787505, 77.6150015, 78.5275   , 78.7175025,\n",
              "       78.1312485, 78.473751 , 79.217499 , 79.3774985, 79.6624985,\n",
              "       79.4012485, 80.106247 , 77.081249 , 78.8237495, 81.1537515,\n",
              "       80.3549995, 78.87125  , 76.963749 , 79.1587525, 80.4637525,\n",
              "       80.685001 , 80.174999 , 79.4249995, 80.326248 , 81.08625  ,\n",
              "       81.196251 , 81.1037525, 79.294998 , 80.571251 , 80.357498 ,\n",
              "       78.8687515, 74.1762505, 73.5825005, 73.0475005, 69.869999 ,\n",
              "       66.8475   , 72.3950005, 73.7249985, 74.5662495, 73.869999 ,\n",
              "       71.5062525, 67.6362495, 69.47625  , 69.134998 , 64.75     ,\n",
              "       66.608751 , 62.3849985, 62.001247 , 60.8899995, 61.9312495,\n",
              "       59.97875  , 55.13875  , 60.248751 , 62.8187505, 63.129999 ,\n",
              "       62.865    , 63.1149995, 64.311249 , 60.9812505, 60.256248 ,\n",
              "       60.5837495, 64.0612485, 66.3375015, 66.075001 , 66.8462525,\n",
              "       67.44125  , 70.7874985, 70.869999 , 71.3187525, 70.4762495,\n",
              "       69.81625  , 67.834999 , 68.7625005, 69.5774995, 70.001251 ,\n",
              "       70.5612525, 70.50375  , 71.6950035, 72.860001 , 73.106251 ,\n",
              "       72.5012515, 74.432499 , 75.2637485, 75.8925015, 76.830002 ,\n",
              "       78.0362475, 78.825001 , 77.3950005, 76.415001 , 76.013748 ,\n",
              "       78.352501 , 78.9412495, 79.504997 , 79.5950015, 79.3225025,\n",
              "       80.092499 , 78.9749985, 79.883751 , 79.702499 , 79.945    ,\n",
              "       80.2962495, 81.0625   , 80.7999995, 81.8725015, 82.615002 ])"
            ]
          },
          "metadata": {},
          "execution_count": 69
        }
      ],
      "source": [
        "env2.prices"
      ]
    },
    {
      "cell_type": "code",
      "execution_count": 70,
      "metadata": {
        "colab": {
          "base_uri": "https://localhost:8080/"
        },
        "id": "Mqyztf2LiV6g",
        "outputId": "3dc4e972-4ee9-4dc1-f78f-0a26b6b93e1d"
      },
      "outputs": [
        {
          "output_type": "stream",
          "name": "stdout",
          "text": [
            "env2 information:\n",
            "> shape: (12, 9)\n",
            "> df.shape: (758, 14)\n",
            "> prices.shape: (300,)\n",
            "> signal_features.shape: (300, 9)\n",
            "> max_possible_profit: 8.49464557615683\n"
          ]
        }
      ],
      "source": [
        "print(\"env2 information:\")\n",
        "print(\"> shape:\", env2.shape)\n",
        "print(\"> df.shape:\", env2.df.shape)\n",
        "print(\"> prices.shape:\", env2.prices.shape)\n",
        "print(\"> signal_features.shape:\", env2.signal_features.shape)\n",
        "print(\"> max_possible_profit:\", env2.max_possible_profit())"
      ]
    },
    {
      "cell_type": "code",
      "execution_count": 71,
      "metadata": {
        "colab": {
          "base_uri": "https://localhost:8080/",
          "height": 294
        },
        "id": "hnl2LPsedBeA",
        "outputId": "fc637549-fbc6-457c-eb00-b6752640eea7"
      },
      "outputs": [
        {
          "output_type": "display_data",
          "data": {
            "text/plain": [
              "<Figure size 432x288 with 1 Axes>"
            ],
            "image/png": "[encoded data removed]"
          },
          "metadata": {
            "needs_background": "light"
          }
        }
      ],
      "source": [
        "env2.reset()\n",
        "env2.render()"
      ]
    },
    {
      "cell_type": "code",
      "execution_count": 72,
      "metadata": {
        "colab": {
          "base_uri": "https://localhost:8080/"
        },
        "id": "RgaHJgMUdCHX",
        "outputId": "60e3fc24-b38f-492f-b8d4-dda8052b21d7"
      },
      "outputs": [
        {
          "output_type": "execute_result",
          "data": {
            "text/plain": [
              "array([47.5074995, 48.1887515, 48.706249 , 48.6887495, 49.12875  ,\n",
              "       49.571249 , 50.2600005, 49.8649995, 49.9300005, 49.543751 ,\n",
              "       49.7325005, 49.991249 , 50.2487505, 50.8337495, 50.91     ,\n",
              "       51.456249 , 51.94125  , 51.609999 , 50.8899995, 51.22875  ,\n",
              "       50.313749 , 53.067499 , 52.5974995, 52.758749 , 51.5424995,\n",
              "       51.03125  , 50.8862495, 49.7924995, 48.9525015, 46.5412505,\n",
              "       46.88875  , 47.2212505, 47.6637495, 47.2074985, 45.578751 ,\n",
              "       46.5874995, 46.0325015, 44.7937485, 45.0949995, 44.8125   ,\n",
              "       44.418751 , 44.4874995, 44.122501 , 43.5237505, 44.2937505,\n",
              "       45.7662505, 45.952499 , 47.2112505, 48.373749 , 48.700001 ,\n",
              "       48.67     , 48.79875  , 47.98625  , 48.391251 , 49.4375   ,\n",
              "       49.64875  , 49.83     , 49.875    , 49.7912505, 49.3187485,\n",
              "       49.7925015, 50.142502 , 49.5687505, 50.6424995, 50.5612505,\n",
              "       50.891251 , 50.997499 , 49.9762495, 50.039999 , 50.661249 ,\n",
              "       50.762501 , 50.7749995, 51.2337495, 51.20125  , 51.045    ,\n",
              "       51.1975   , 51.1075   , 51.3549995, 52.0249995, 52.039999 ,\n",
              "       51.99625  , 52.1087495, 52.3850005, 52.18375  , 54.08375  ,\n",
              "       53.0962505, 51.0074995, 48.903749 , 49.01375  , 49.1725005,\n",
              "       50.365    , 50.2562485, 50.1499995, 51.5774995, 51.12875  ,\n",
              "       50.60125  , 51.375    , 52.8449995, 52.958752 , 53.15625  ,\n",
              "       53.1487505, 51.6312505, 51.53125  , 51.5100005, 51.130001 ,\n",
              "       51.9975015, 52.206249 , 51.3999995, 52.1000005, 53.1849995,\n",
              "       53.3662495, 53.4387515, 53.561251 , 55.1800005, 56.16     ,\n",
              "       54.7262495, 54.71125  , 54.9925005, 55.2862515, 55.516249 ,\n",
              "       55.0037495, 54.6862485, 54.960001 , 54.83     , 54.9712505,\n",
              "       54.780001 , 55.671249 , 56.5524995, 55.188749 , 54.5112515,\n",
              "       56.4225005, 56.9712485, 56.5487495, 56.678749 , 57.217501 ,\n",
              "       58.7437495, 59.1000005, 59.0662495, 58.555    , 58.7087495,\n",
              "       58.983749 , 59.7887515, 60.227499 , 60.5575005, 60.82625  ,\n",
              "       61.20125  , 61.99625  , 61.540001 , 60.8137515, 60.8037495,\n",
              "       63.1362495, 64.1537515, 64.3137515, 64.1074985, 64.807499 ,\n",
              "       64.6612515, 65.09375  , 65.4637525, 65.731251 , 65.8725015,\n",
              "       66.098751 , 66.4575005, 66.673752 , 65.8099975, 65.64875  ,\n",
              "       65.5024985, 66.119999 , 66.2075005, 66.661251 , 66.737499 ,\n",
              "       66.4625015, 64.477501 , 65.4987485, 66.0775035, 67.2874985,\n",
              "       66.963749 , 66.991249 , 67.450001 , 67.4850005, 68.2787475,\n",
              "       69.7212525, 70.071247 , 70.1274985, 70.0162505, 70.1512485,\n",
              "       70.5774995, 70.9762535, 71.835003 , 72.7612495, 72.2387505,\n",
              "       72.8999975, 74.4737515, 74.6349985, 74.088749 , 74.7975005,\n",
              "       75.200001 , 77.0787505, 77.6150015, 78.5275   , 78.7175025,\n",
              "       78.1312485, 78.473751 , 79.217499 , 79.3774985, 79.6624985,\n",
              "       79.4012485, 80.106247 , 77.081249 , 78.8237495, 81.1537515,\n",
              "       80.3549995, 78.87125  , 76.963749 , 79.1587525, 80.4637525,\n",
              "       80.685001 , 80.174999 , 79.4249995, 80.326248 , 81.08625  ,\n",
              "       81.196251 , 81.1037525, 79.294998 , 80.571251 , 80.357498 ,\n",
              "       78.8687515, 74.1762505, 73.5825005, 73.0475005, 69.869999 ,\n",
              "       66.8475   , 72.3950005, 73.7249985, 74.5662495, 73.869999 ,\n",
              "       71.5062525, 67.6362495, 69.47625  , 69.134998 , 64.75     ,\n",
              "       66.608751 , 62.3849985, 62.001247 , 60.8899995, 61.9312495,\n",
              "       59.97875  , 55.13875  , 60.248751 , 62.8187505, 63.129999 ,\n",
              "       62.865    , 63.1149995, 64.311249 , 60.9812505, 60.256248 ,\n",
              "       60.5837495, 64.0612485, 66.3375015, 66.075001 , 66.8462525,\n",
              "       67.44125  , 70.7874985, 70.869999 , 71.3187525, 70.4762495,\n",
              "       69.81625  , 67.834999 , 68.7625005, 69.5774995, 70.001251 ,\n",
              "       70.5612525, 70.50375  , 71.6950035, 72.860001 , 73.106251 ,\n",
              "       72.5012515, 74.432499 , 75.2637485, 75.8925015, 76.830002 ,\n",
              "       78.0362475, 78.825001 , 77.3950005, 76.415001 , 76.013748 ,\n",
              "       78.352501 , 78.9412495, 79.504997 , 79.5950015, 79.3225025,\n",
              "       80.092499 , 78.9749985, 79.883751 , 79.702499 , 79.945    ,\n",
              "       80.2962495, 81.0625   , 80.7999995, 81.8725015, 82.615002 ])"
            ]
          },
          "metadata": {},
          "execution_count": 72
        }
      ],
      "source": [
        "env2.prices"
      ]
    },
    {
      "cell_type": "code",
      "execution_count": 73,
      "metadata": {
        "colab": {
          "base_uri": "https://localhost:8080/"
        },
        "id": "2l6icnfYdCcu",
        "outputId": "41de6e14-e108-42db-a3bc-053cd030c321"
      },
      "outputs": [
        {
          "output_type": "execute_result",
          "data": {
            "text/plain": [
              "array([[4.75074995e+01, 1.11448000e+08, 0.00000000e+00, ...,\n",
              "        0.00000000e+00, 0.00000000e+00, 4.78100010e+01],\n",
              "       [4.81887515e+01, 9.10628000e+07, 0.00000000e+00, ...,\n",
              "        0.00000000e+00, 0.00000000e+00, 4.81779422e+01],\n",
              "       [4.87062490e+01, 9.30872000e+07, 0.00000000e+00, ...,\n",
              "        0.00000000e+00, 0.00000000e+00, 4.84241373e+01],\n",
              "       ...,\n",
              "       [8.07999995e+01, 8.75604000e+07, 7.98285429e+01, ...,\n",
              "        7.97225040e+01, 4.04317896e+01, 7.88663602e+01],\n",
              "       [8.18725015e+01, 1.37250400e+08, 8.02110426e+01, ...,\n",
              "        8.04625020e+01, 4.14690567e+01, 7.93117647e+01],\n",
              "       [8.26150020e+01, 9.56544000e+07, 8.05075005e+01, ...,\n",
              "        8.05800020e+01, 4.26140490e+01, 7.97621239e+01]])"
            ]
          },
          "metadata": {},
          "execution_count": 73
        }
      ],
      "source": [
        "env2.signal_features"
      ]
    },
    {
      "cell_type": "code",
      "execution_count": 74,
      "metadata": {
        "colab": {
          "base_uri": "https://localhost:8080/",
          "height": 452
        },
        "id": "vqWuRAuThlWY",
        "outputId": "200c2e05-1df0-48b7-c42e-16c944108777"
      },
      "outputs": [
        {
          "output_type": "stream",
          "name": "stdout",
          "text": [
            "info {'total_reward': 20.08624850000004, 'total_profit': 0.4738357739767207, 'position': 0}\n"
          ]
        },
        {
          "output_type": "execute_result",
          "data": {
            "text/plain": [
              "<function matplotlib.pyplot.show>"
            ]
          },
          "metadata": {},
          "execution_count": 74
        },
        {
          "output_type": "display_data",
          "data": {
            "text/plain": [
              "<Figure size 1080x432 with 1 Axes>"
            ],
            "image/png": "[encoded data removed]"
          },
          "metadata": {
            "needs_background": "light"
          }
        }
      ],
      "source": [
        "state=env2.reset()\n",
        "while True:\n",
        "  action=env2.action_space.sample()\n",
        "  n_state,reward,done,info=env2.step(action)\n",
        "  if done:\n",
        "    print(\"info\",info)\n",
        "    break\n",
        "plt.figure(figsize=(15,6))\n",
        "plt.cla()\n",
        "env2.render_all()\n",
        "plt.show    "
      ]
    },
    {
      "cell_type": "code",
      "execution_count": 75,
      "metadata": {
        "id": "aV_jRCqFhqC9"
      },
      "outputs": [],
      "source": [
        "env_maker=lambda: env2\n",
        "env=DummyVecEnv([env_maker])"
      ]
    },
    {
      "cell_type": "code",
      "execution_count": 76,
      "metadata": {
        "colab": {
          "base_uri": "https://localhost:8080/"
        },
        "id": "nJ4Bb9nL5v3c",
        "outputId": "8f639d3b-67b8-4917-cea4-38af6f361caf"
      },
      "outputs": [
        {
          "output_type": "stream",
          "name": "stdout",
          "text": [
            "--------------------------------------\n",
            "| % time spent exploring  | 2        |\n",
            "| episodes                | 100      |\n",
            "| mean 100 episode reward | 7.3      |\n",
            "| steps                   | 28413    |\n",
            "--------------------------------------\n",
            "--------------------------------------\n",
            "| % time spent exploring  | 2        |\n",
            "| episodes                | 200      |\n",
            "| mean 100 episode reward | 3.4      |\n",
            "| steps                   | 57113    |\n",
            "--------------------------------------\n",
            "--------------------------------------\n",
            "| % time spent exploring  | 2        |\n",
            "| episodes                | 300      |\n",
            "| mean 100 episode reward | 2.6      |\n",
            "| steps                   | 85813    |\n",
            "--------------------------------------\n",
            "--------------------------------------\n",
            "| % time spent exploring  | 2        |\n",
            "| episodes                | 400      |\n",
            "| mean 100 episode reward | 5.5      |\n",
            "| steps                   | 114513   |\n",
            "--------------------------------------\n",
            "--------------------------------------\n",
            "| % time spent exploring  | 2        |\n",
            "| episodes                | 500      |\n",
            "| mean 100 episode reward | 9        |\n",
            "| steps                   | 143213   |\n",
            "--------------------------------------\n",
            "--------------------------------------\n",
            "| % time spent exploring  | 2        |\n",
            "| episodes                | 600      |\n",
            "| mean 100 episode reward | 9.2      |\n",
            "| steps                   | 171913   |\n",
            "--------------------------------------\n"
          ]
        },
        {
          "output_type": "execute_result",
          "data": {
            "text/plain": [
              "<stable_baselines.deepq.dqn.DQN at 0x7ff90a606e10>"
            ]
          },
          "metadata": {},
          "execution_count": 76
        }
      ],
      "source": [
        "model=DQN('LnMlpPolicy',env,verbose=1)\n",
        "model.learn(total_timesteps=200000)"
      ]
    },
    {
      "cell_type": "code",
      "execution_count": 77,
      "metadata": {
        "colab": {
          "base_uri": "https://localhost:8080/"
        },
        "id": "IHvx8-4ND0rA",
        "outputId": "3a4951cd-2064-4eed-8caa-ee048006d285"
      },
      "outputs": [
        {
          "output_type": "stream",
          "name": "stdout",
          "text": [
            "info {'total_reward': 3.839999500000019, 'total_profit': 1.0499423113236357, 'position': 1}\n"
          ]
        }
      ],
      "source": [
        "env=MyCustomEnv(df=df,window_size=12,frame_bound=(420,440))\n",
        "obs=env.reset()\n",
        "while True:\n",
        "  obs=obs[np.newaxis,...]\n",
        "  action, _states=model.predict(obs)\n",
        "  obs,reward,done,info=env.step(action)\n",
        "  if done:\n",
        "    print(\"info\",info)\n",
        "    break"
      ]
    },
    {
      "cell_type": "code",
      "execution_count": 78,
      "metadata": {
        "colab": {
          "base_uri": "https://localhost:8080/",
          "height": 434
        },
        "id": "dYMNc3U9GsrX",
        "outputId": "1fff7e39-2e7b-4b19-c65a-9bb7c1902ff1"
      },
      "outputs": [
        {
          "output_type": "execute_result",
          "data": {
            "text/plain": [
              "<function matplotlib.pyplot.show>"
            ]
          },
          "metadata": {},
          "execution_count": 78
        },
        {
          "output_type": "display_data",
          "data": {
            "text/plain": [
              "<Figure size 1080x432 with 1 Axes>"
            ],
            "image/png": "[encoded data removed]"
          },
          "metadata": {
            "needs_background": "light"
          }
        }
      ],
      "source": [
        "plt.figure(figsize=(15,6))\n",
        "plt.cla()\n",
        "env.render_all()\n",
        "plt.show    "
      ]
    },
    {
      "cell_type": "code",
      "source": [
        ""
      ],
      "metadata": {
        "id": "KzrPhY_1nb21"
      },
      "execution_count": 78,
      "outputs": []
    },
    {
      "cell_type": "code",
      "execution_count": 78,
      "metadata": {
        "id": "0afcInhKGzRd"
      },
      "outputs": [],
      "source": [
        "\n"
      ]
    },
    {
      "cell_type": "code",
      "execution_count": 78,
      "metadata": {
        "id": "ac-GJ_5TpHIl"
      },
      "outputs": [],
      "source": [
        ""
      ]
    },
    {
      "cell_type": "code",
      "execution_count": 78,
      "metadata": {
        "id": "RBvfT2mdpd-Q"
      },
      "outputs": [],
      "source": [
        ""
      ]
    },
    {
      "cell_type": "code",
      "execution_count": 78,
      "metadata": {
        "id": "IqNoC_EHpl-A"
      },
      "outputs": [],
      "source": [
        ""
      ]
    },
    {
      "cell_type": "code",
      "source": [
        ""
      ],
      "metadata": {
        "id": "rOM4qMtQoF7a"
      },
      "execution_count": 78,
      "outputs": []
    },
    {
      "cell_type": "code",
      "source": [
        ""
      ],
      "metadata": {
        "id": "ZktMpzd7ov8b"
      },
      "execution_count": 78,
      "outputs": []
    }
  ],
  "metadata": {
    "colab": {
      "name": "Trade2.ipynb",
      "provenance": []
    },
    "kernelspec": {
      "display_name": "Python 3",
      "name": "python3"
    },
    "language_info": {
      "name": "python"
    }
  },
  "nbformat": 4,
  "nbformat_minor": 0
}
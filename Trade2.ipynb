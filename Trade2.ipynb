{
  "nbformat": 4,
  "nbformat_minor": 0,
  "metadata": {
    "colab": {
      "name": "Trade2.ipynb",
      "provenance": []
    },
    "kernelspec": {
      "name": "python3",
      "display_name": "Python 3"
    },
    "language_info": {
      "name": "python"
    }
  },
  "cells": [
    {
      "cell_type": "code",
      "execution_count": 4,
      "metadata": {
        "colab": {
          "base_uri": "https://localhost:8080/"
        },
        "id": "FzdFS4Xf7uGB",
        "outputId": "2889c361-0795-4ac5-ee94-54819e634343"
      },
      "outputs": [
        {
          "output_type": "stream",
          "name": "stdout",
          "text": [
            "Requirement already satisfied: tensorflow-gpu==1.15.0 in /usr/local/lib/python3.7/dist-packages (1.15.0)\n",
            "Requirement already satisfied: tensorflow==1.15.0 in /usr/local/lib/python3.7/dist-packages (1.15.0)\n",
            "Requirement already satisfied: stable-baselines in /usr/local/lib/python3.7/dist-packages (2.10.2)\n",
            "Requirement already satisfied: gym-anytrading in /usr/local/lib/python3.7/dist-packages (1.2.0)\n",
            "Requirement already satisfied: gym in /usr/local/lib/python3.7/dist-packages (0.17.3)\n",
            "Requirement already satisfied: astor>=0.6.0 in /usr/local/lib/python3.7/dist-packages (from tensorflow-gpu==1.15.0) (0.8.1)\n",
            "Requirement already satisfied: six>=1.10.0 in /usr/local/lib/python3.7/dist-packages (from tensorflow-gpu==1.15.0) (1.15.0)\n",
            "Requirement already satisfied: protobuf>=3.6.1 in /usr/local/lib/python3.7/dist-packages (from tensorflow-gpu==1.15.0) (3.17.3)\n",
            "Requirement already satisfied: grpcio>=1.8.6 in /usr/local/lib/python3.7/dist-packages (from tensorflow-gpu==1.15.0) (1.44.0)\n",
            "Requirement already satisfied: opt-einsum>=2.3.2 in /usr/local/lib/python3.7/dist-packages (from tensorflow-gpu==1.15.0) (3.3.0)\n",
            "Requirement already satisfied: termcolor>=1.1.0 in /usr/local/lib/python3.7/dist-packages (from tensorflow-gpu==1.15.0) (1.1.0)\n",
            "Requirement already satisfied: gast==0.2.2 in /usr/local/lib/python3.7/dist-packages (from tensorflow-gpu==1.15.0) (0.2.2)\n",
            "Requirement already satisfied: tensorflow-estimator==1.15.1 in /usr/local/lib/python3.7/dist-packages (from tensorflow-gpu==1.15.0) (1.15.1)\n",
            "Requirement already satisfied: wheel>=0.26 in /usr/local/lib/python3.7/dist-packages (from tensorflow-gpu==1.15.0) (0.37.1)\n",
            "Requirement already satisfied: google-pasta>=0.1.6 in /usr/local/lib/python3.7/dist-packages (from tensorflow-gpu==1.15.0) (0.2.0)\n",
            "Requirement already satisfied: absl-py>=0.7.0 in /usr/local/lib/python3.7/dist-packages (from tensorflow-gpu==1.15.0) (1.0.0)\n",
            "Requirement already satisfied: keras-applications>=1.0.8 in /usr/local/lib/python3.7/dist-packages (from tensorflow-gpu==1.15.0) (1.0.8)\n",
            "Requirement already satisfied: tensorboard<1.16.0,>=1.15.0 in /usr/local/lib/python3.7/dist-packages (from tensorflow-gpu==1.15.0) (1.15.0)\n",
            "Requirement already satisfied: keras-preprocessing>=1.0.5 in /usr/local/lib/python3.7/dist-packages (from tensorflow-gpu==1.15.0) (1.1.2)\n",
            "Requirement already satisfied: wrapt>=1.11.1 in /usr/local/lib/python3.7/dist-packages (from tensorflow-gpu==1.15.0) (1.14.0)\n",
            "Requirement already satisfied: numpy<2.0,>=1.16.0 in /usr/local/lib/python3.7/dist-packages (from tensorflow-gpu==1.15.0) (1.21.6)\n",
            "Requirement already satisfied: h5py in /usr/local/lib/python3.7/dist-packages (from keras-applications>=1.0.8->tensorflow-gpu==1.15.0) (3.1.0)\n",
            "Requirement already satisfied: setuptools>=41.0.0 in /usr/local/lib/python3.7/dist-packages (from tensorboard<1.16.0,>=1.15.0->tensorflow-gpu==1.15.0) (57.4.0)\n",
            "Requirement already satisfied: werkzeug>=0.11.15 in /usr/local/lib/python3.7/dist-packages (from tensorboard<1.16.0,>=1.15.0->tensorflow-gpu==1.15.0) (1.0.1)\n",
            "Requirement already satisfied: markdown>=2.6.8 in /usr/local/lib/python3.7/dist-packages (from tensorboard<1.16.0,>=1.15.0->tensorflow-gpu==1.15.0) (3.3.6)\n",
            "Requirement already satisfied: importlib-metadata>=4.4 in /usr/local/lib/python3.7/dist-packages (from markdown>=2.6.8->tensorboard<1.16.0,>=1.15.0->tensorflow-gpu==1.15.0) (4.11.3)\n",
            "Requirement already satisfied: typing-extensions>=3.6.4 in /usr/local/lib/python3.7/dist-packages (from importlib-metadata>=4.4->markdown>=2.6.8->tensorboard<1.16.0,>=1.15.0->tensorflow-gpu==1.15.0) (4.2.0)\n",
            "Requirement already satisfied: zipp>=0.5 in /usr/local/lib/python3.7/dist-packages (from importlib-metadata>=4.4->markdown>=2.6.8->tensorboard<1.16.0,>=1.15.0->tensorflow-gpu==1.15.0) (3.8.0)\n",
            "Requirement already satisfied: cloudpickle>=0.5.5 in /usr/local/lib/python3.7/dist-packages (from stable-baselines) (1.3.0)\n",
            "Requirement already satisfied: scipy in /usr/local/lib/python3.7/dist-packages (from stable-baselines) (1.4.1)\n",
            "Requirement already satisfied: matplotlib in /usr/local/lib/python3.7/dist-packages (from stable-baselines) (3.2.2)\n",
            "Requirement already satisfied: pandas in /usr/local/lib/python3.7/dist-packages (from stable-baselines) (1.3.5)\n",
            "Requirement already satisfied: opencv-python in /usr/local/lib/python3.7/dist-packages (from stable-baselines) (4.1.2.30)\n",
            "Requirement already satisfied: joblib in /usr/local/lib/python3.7/dist-packages (from stable-baselines) (1.1.0)\n",
            "Requirement already satisfied: pyglet<=1.5.0,>=1.4.0 in /usr/local/lib/python3.7/dist-packages (from gym) (1.5.0)\n",
            "Requirement already satisfied: atari-py~=0.2.0 in /usr/local/lib/python3.7/dist-packages (from gym) (0.2.9)\n",
            "Requirement already satisfied: Pillow in /usr/local/lib/python3.7/dist-packages (from gym) (7.1.2)\n",
            "Requirement already satisfied: future in /usr/local/lib/python3.7/dist-packages (from pyglet<=1.5.0,>=1.4.0->gym) (0.16.0)\n",
            "Requirement already satisfied: pyparsing!=2.0.4,!=2.1.2,!=2.1.6,>=2.0.1 in /usr/local/lib/python3.7/dist-packages (from matplotlib->stable-baselines) (3.0.8)\n",
            "Requirement already satisfied: python-dateutil>=2.1 in /usr/local/lib/python3.7/dist-packages (from matplotlib->stable-baselines) (2.8.2)\n",
            "Requirement already satisfied: kiwisolver>=1.0.1 in /usr/local/lib/python3.7/dist-packages (from matplotlib->stable-baselines) (1.4.2)\n",
            "Requirement already satisfied: cycler>=0.10 in /usr/local/lib/python3.7/dist-packages (from matplotlib->stable-baselines) (0.11.0)\n",
            "Requirement already satisfied: pytz>=2017.3 in /usr/local/lib/python3.7/dist-packages (from pandas->stable-baselines) (2022.1)\n",
            "Requirement already satisfied: cached-property in /usr/local/lib/python3.7/dist-packages (from h5py->keras-applications>=1.0.8->tensorflow-gpu==1.15.0) (1.5.2)\n"
          ]
        }
      ],
      "source": [
        "pip install tensorflow-gpu==1.15.0 tensorflow==1.15.0 stable-baselines gym-anytrading gym"
      ]
    },
    {
      "cell_type": "code",
      "source": [
        "import gym\n",
        "import gym_anytrading\n",
        "\n",
        "from stable_baselines.common.vec_env import DummyVecEnv\n",
        "from stable_baselines import DQN\n",
        "\n",
        "import numpy as np\n",
        "import pandas as pd\n",
        "from matplotlib import pyplot as plt"
      ],
      "metadata": {
        "id": "pRg-5hYR8f6q"
      },
      "execution_count": 5,
      "outputs": []
    },
    {
      "cell_type": "code",
      "source": [
        "df=pd.read_csv('AAPL (2).csv')\n",
        "df.head()"
      ],
      "metadata": {
        "colab": {
          "base_uri": "https://localhost:8080/",
          "height": 206
        },
        "id": "-LtR5v3s7y5g",
        "outputId": "641effbe-ea22-4319-802d-4c7712dd1bd6"
      },
      "execution_count": 6,
      "outputs": [
        {
          "output_type": "execute_result",
          "data": {
            "text/plain": [
              "         Date       Open       High        Low      Close  Adj Close  \\\n",
              "0  2019-04-01  47.910000  47.919998  47.095001  47.810001  46.552612   \n",
              "1  2019-04-02  47.772499  48.615002  47.762501  48.505001  47.229336   \n",
              "2  2019-04-03  48.312500  49.125000  48.287498  48.837502  47.553089   \n",
              "3  2019-04-04  48.697498  49.092499  48.285000  48.922501  47.635853   \n",
              "4  2019-04-05  49.112499  49.275002  48.982498  49.250000  47.954746   \n",
              "\n",
              "      Volume  \n",
              "0  111448000  \n",
              "1   91062800  \n",
              "2   93087200  \n",
              "3   76457200  \n",
              "4   74106400  "
            ],
            "text/html": [
              "\n",
              "  <div id=\"df-e52adb18-cd2e-406e-bfcd-ce30c1df714e\">\n",
              "    <div class=\"colab-df-container\">\n",
              "      <div>\n",
              "<style scoped>\n",
              "    .dataframe tbody tr th:only-of-type {\n",
              "        vertical-align: middle;\n",
              "    }\n",
              "\n",
              "    .dataframe tbody tr th {\n",
              "        vertical-align: top;\n",
              "    }\n",
              "\n",
              "    .dataframe thead th {\n",
              "        text-align: right;\n",
              "    }\n",
              "</style>\n",
              "<table border=\"1\" class=\"dataframe\">\n",
              "  <thead>\n",
              "    <tr style=\"text-align: right;\">\n",
              "      <th></th>\n",
              "      <th>Date</th>\n",
              "      <th>Open</th>\n",
              "      <th>High</th>\n",
              "      <th>Low</th>\n",
              "      <th>Close</th>\n",
              "      <th>Adj Close</th>\n",
              "      <th>Volume</th>\n",
              "    </tr>\n",
              "  </thead>\n",
              "  <tbody>\n",
              "    <tr>\n",
              "      <th>0</th>\n",
              "      <td>2019-04-01</td>\n",
              "      <td>47.910000</td>\n",
              "      <td>47.919998</td>\n",
              "      <td>47.095001</td>\n",
              "      <td>47.810001</td>\n",
              "      <td>46.552612</td>\n",
              "      <td>111448000</td>\n",
              "    </tr>\n",
              "    <tr>\n",
              "      <th>1</th>\n",
              "      <td>2019-04-02</td>\n",
              "      <td>47.772499</td>\n",
              "      <td>48.615002</td>\n",
              "      <td>47.762501</td>\n",
              "      <td>48.505001</td>\n",
              "      <td>47.229336</td>\n",
              "      <td>91062800</td>\n",
              "    </tr>\n",
              "    <tr>\n",
              "      <th>2</th>\n",
              "      <td>2019-04-03</td>\n",
              "      <td>48.312500</td>\n",
              "      <td>49.125000</td>\n",
              "      <td>48.287498</td>\n",
              "      <td>48.837502</td>\n",
              "      <td>47.553089</td>\n",
              "      <td>93087200</td>\n",
              "    </tr>\n",
              "    <tr>\n",
              "      <th>3</th>\n",
              "      <td>2019-04-04</td>\n",
              "      <td>48.697498</td>\n",
              "      <td>49.092499</td>\n",
              "      <td>48.285000</td>\n",
              "      <td>48.922501</td>\n",
              "      <td>47.635853</td>\n",
              "      <td>76457200</td>\n",
              "    </tr>\n",
              "    <tr>\n",
              "      <th>4</th>\n",
              "      <td>2019-04-05</td>\n",
              "      <td>49.112499</td>\n",
              "      <td>49.275002</td>\n",
              "      <td>48.982498</td>\n",
              "      <td>49.250000</td>\n",
              "      <td>47.954746</td>\n",
              "      <td>74106400</td>\n",
              "    </tr>\n",
              "  </tbody>\n",
              "</table>\n",
              "</div>\n",
              "      <button class=\"colab-df-convert\" onclick=\"convertToInteractive('df-e52adb18-cd2e-406e-bfcd-ce30c1df714e')\"\n",
              "              title=\"Convert this dataframe to an interactive table.\"\n",
              "              style=\"display:none;\">\n",
              "        \n",
              "  <svg xmlns=\"http://www.w3.org/2000/svg\" height=\"24px\"viewBox=\"0 0 24 24\"\n",
              "       width=\"24px\">\n",
              "    <path d=\"M0 0h24v24H0V0z\" fill=\"none\"/>\n",
              "    <path d=\"M18.56 5.44l.94 2.06.94-2.06 2.06-.94-2.06-.94-.94-2.06-.94 2.06-2.06.94zm-11 1L8.5 8.5l.94-2.06 2.06-.94-2.06-.94L8.5 2.5l-.94 2.06-2.06.94zm10 10l.94 2.06.94-2.06 2.06-.94-2.06-.94-.94-2.06-.94 2.06-2.06.94z\"/><path d=\"M17.41 7.96l-1.37-1.37c-.4-.4-.92-.59-1.43-.59-.52 0-1.04.2-1.43.59L10.3 9.45l-7.72 7.72c-.78.78-.78 2.05 0 2.83L4 21.41c.39.39.9.59 1.41.59.51 0 1.02-.2 1.41-.59l7.78-7.78 2.81-2.81c.8-.78.8-2.07 0-2.86zM5.41 20L4 18.59l7.72-7.72 1.47 1.35L5.41 20z\"/>\n",
              "  </svg>\n",
              "      </button>\n",
              "      \n",
              "  <style>\n",
              "    .colab-df-container {\n",
              "      display:flex;\n",
              "      flex-wrap:wrap;\n",
              "      gap: 12px;\n",
              "    }\n",
              "\n",
              "    .colab-df-convert {\n",
              "      background-color: #E8F0FE;\n",
              "      border: none;\n",
              "      border-radius: 50%;\n",
              "      cursor: pointer;\n",
              "      display: none;\n",
              "      fill: #1967D2;\n",
              "      height: 32px;\n",
              "      padding: 0 0 0 0;\n",
              "      width: 32px;\n",
              "    }\n",
              "\n",
              "    .colab-df-convert:hover {\n",
              "      background-color: #E2EBFA;\n",
              "      box-shadow: 0px 1px 2px rgba(60, 64, 67, 0.3), 0px 1px 3px 1px rgba(60, 64, 67, 0.15);\n",
              "      fill: #174EA6;\n",
              "    }\n",
              "\n",
              "    [theme=dark] .colab-df-convert {\n",
              "      background-color: #3B4455;\n",
              "      fill: #D2E3FC;\n",
              "    }\n",
              "\n",
              "    [theme=dark] .colab-df-convert:hover {\n",
              "      background-color: #434B5C;\n",
              "      box-shadow: 0px 1px 3px 1px rgba(0, 0, 0, 0.15);\n",
              "      filter: drop-shadow(0px 1px 2px rgba(0, 0, 0, 0.3));\n",
              "      fill: #FFFFFF;\n",
              "    }\n",
              "  </style>\n",
              "\n",
              "      <script>\n",
              "        const buttonEl =\n",
              "          document.querySelector('#df-e52adb18-cd2e-406e-bfcd-ce30c1df714e button.colab-df-convert');\n",
              "        buttonEl.style.display =\n",
              "          google.colab.kernel.accessAllowed ? 'block' : 'none';\n",
              "\n",
              "        async function convertToInteractive(key) {\n",
              "          const element = document.querySelector('#df-e52adb18-cd2e-406e-bfcd-ce30c1df714e');\n",
              "          const dataTable =\n",
              "            await google.colab.kernel.invokeFunction('convertToInteractive',\n",
              "                                                     [key], {});\n",
              "          if (!dataTable) return;\n",
              "\n",
              "          const docLinkHtml = 'Like what you see? Visit the ' +\n",
              "            '<a target=\"_blank\" href=https://colab.research.google.com/notebooks/data_table.ipynb>data table notebook</a>'\n",
              "            + ' to learn more about interactive tables.';\n",
              "          element.innerHTML = '';\n",
              "          dataTable['output_type'] = 'display_data';\n",
              "          await google.colab.output.renderOutput(dataTable, element);\n",
              "          const docLink = document.createElement('div');\n",
              "          docLink.innerHTML = docLinkHtml;\n",
              "          element.appendChild(docLink);\n",
              "        }\n",
              "      </script>\n",
              "    </div>\n",
              "  </div>\n",
              "  "
            ]
          },
          "metadata": {},
          "execution_count": 6
        }
      ]
    },
    {
      "cell_type": "code",
      "source": [
        "df.dtypes"
      ],
      "metadata": {
        "id": "hLMCy_UI8oFi",
        "colab": {
          "base_uri": "https://localhost:8080/"
        },
        "outputId": "6a8386ff-5c45-467f-afa1-b15395e2a296"
      },
      "execution_count": 7,
      "outputs": [
        {
          "output_type": "execute_result",
          "data": {
            "text/plain": [
              "Date          object\n",
              "Open         float64\n",
              "High         float64\n",
              "Low          float64\n",
              "Close        float64\n",
              "Adj Close    float64\n",
              "Volume         int64\n",
              "dtype: object"
            ]
          },
          "metadata": {},
          "execution_count": 7
        }
      ]
    },
    {
      "cell_type": "code",
      "source": [
        "df['Date']=pd.to_datetime(df['Date'])\n",
        "df.dtypes\n",
        "df.sort_values('Date',ascending=True,inplace=True)\n",
        "df.head()"
      ],
      "metadata": {
        "id": "5tyhYOvQ8-Md",
        "colab": {
          "base_uri": "https://localhost:8080/",
          "height": 206
        },
        "outputId": "670cf4e0-2e96-41d9-b0e5-52f599ae96d6"
      },
      "execution_count": 8,
      "outputs": [
        {
          "output_type": "execute_result",
          "data": {
            "text/plain": [
              "        Date       Open       High        Low      Close  Adj Close     Volume\n",
              "0 2019-04-01  47.910000  47.919998  47.095001  47.810001  46.552612  111448000\n",
              "1 2019-04-02  47.772499  48.615002  47.762501  48.505001  47.229336   91062800\n",
              "2 2019-04-03  48.312500  49.125000  48.287498  48.837502  47.553089   93087200\n",
              "3 2019-04-04  48.697498  49.092499  48.285000  48.922501  47.635853   76457200\n",
              "4 2019-04-05  49.112499  49.275002  48.982498  49.250000  47.954746   74106400"
            ],
            "text/html": [
              "\n",
              "  <div id=\"df-eff747d1-7f74-4689-8ce8-b76f36d0d7d5\">\n",
              "    <div class=\"colab-df-container\">\n",
              "      <div>\n",
              "<style scoped>\n",
              "    .dataframe tbody tr th:only-of-type {\n",
              "        vertical-align: middle;\n",
              "    }\n",
              "\n",
              "    .dataframe tbody tr th {\n",
              "        vertical-align: top;\n",
              "    }\n",
              "\n",
              "    .dataframe thead th {\n",
              "        text-align: right;\n",
              "    }\n",
              "</style>\n",
              "<table border=\"1\" class=\"dataframe\">\n",
              "  <thead>\n",
              "    <tr style=\"text-align: right;\">\n",
              "      <th></th>\n",
              "      <th>Date</th>\n",
              "      <th>Open</th>\n",
              "      <th>High</th>\n",
              "      <th>Low</th>\n",
              "      <th>Close</th>\n",
              "      <th>Adj Close</th>\n",
              "      <th>Volume</th>\n",
              "    </tr>\n",
              "  </thead>\n",
              "  <tbody>\n",
              "    <tr>\n",
              "      <th>0</th>\n",
              "      <td>2019-04-01</td>\n",
              "      <td>47.910000</td>\n",
              "      <td>47.919998</td>\n",
              "      <td>47.095001</td>\n",
              "      <td>47.810001</td>\n",
              "      <td>46.552612</td>\n",
              "      <td>111448000</td>\n",
              "    </tr>\n",
              "    <tr>\n",
              "      <th>1</th>\n",
              "      <td>2019-04-02</td>\n",
              "      <td>47.772499</td>\n",
              "      <td>48.615002</td>\n",
              "      <td>47.762501</td>\n",
              "      <td>48.505001</td>\n",
              "      <td>47.229336</td>\n",
              "      <td>91062800</td>\n",
              "    </tr>\n",
              "    <tr>\n",
              "      <th>2</th>\n",
              "      <td>2019-04-03</td>\n",
              "      <td>48.312500</td>\n",
              "      <td>49.125000</td>\n",
              "      <td>48.287498</td>\n",
              "      <td>48.837502</td>\n",
              "      <td>47.553089</td>\n",
              "      <td>93087200</td>\n",
              "    </tr>\n",
              "    <tr>\n",
              "      <th>3</th>\n",
              "      <td>2019-04-04</td>\n",
              "      <td>48.697498</td>\n",
              "      <td>49.092499</td>\n",
              "      <td>48.285000</td>\n",
              "      <td>48.922501</td>\n",
              "      <td>47.635853</td>\n",
              "      <td>76457200</td>\n",
              "    </tr>\n",
              "    <tr>\n",
              "      <th>4</th>\n",
              "      <td>2019-04-05</td>\n",
              "      <td>49.112499</td>\n",
              "      <td>49.275002</td>\n",
              "      <td>48.982498</td>\n",
              "      <td>49.250000</td>\n",
              "      <td>47.954746</td>\n",
              "      <td>74106400</td>\n",
              "    </tr>\n",
              "  </tbody>\n",
              "</table>\n",
              "</div>\n",
              "      <button class=\"colab-df-convert\" onclick=\"convertToInteractive('df-eff747d1-7f74-4689-8ce8-b76f36d0d7d5')\"\n",
              "              title=\"Convert this dataframe to an interactive table.\"\n",
              "              style=\"display:none;\">\n",
              "        \n",
              "  <svg xmlns=\"http://www.w3.org/2000/svg\" height=\"24px\"viewBox=\"0 0 24 24\"\n",
              "       width=\"24px\">\n",
              "    <path d=\"M0 0h24v24H0V0z\" fill=\"none\"/>\n",
              "    <path d=\"M18.56 5.44l.94 2.06.94-2.06 2.06-.94-2.06-.94-.94-2.06-.94 2.06-2.06.94zm-11 1L8.5 8.5l.94-2.06 2.06-.94-2.06-.94L8.5 2.5l-.94 2.06-2.06.94zm10 10l.94 2.06.94-2.06 2.06-.94-2.06-.94-.94-2.06-.94 2.06-2.06.94z\"/><path d=\"M17.41 7.96l-1.37-1.37c-.4-.4-.92-.59-1.43-.59-.52 0-1.04.2-1.43.59L10.3 9.45l-7.72 7.72c-.78.78-.78 2.05 0 2.83L4 21.41c.39.39.9.59 1.41.59.51 0 1.02-.2 1.41-.59l7.78-7.78 2.81-2.81c.8-.78.8-2.07 0-2.86zM5.41 20L4 18.59l7.72-7.72 1.47 1.35L5.41 20z\"/>\n",
              "  </svg>\n",
              "      </button>\n",
              "      \n",
              "  <style>\n",
              "    .colab-df-container {\n",
              "      display:flex;\n",
              "      flex-wrap:wrap;\n",
              "      gap: 12px;\n",
              "    }\n",
              "\n",
              "    .colab-df-convert {\n",
              "      background-color: #E8F0FE;\n",
              "      border: none;\n",
              "      border-radius: 50%;\n",
              "      cursor: pointer;\n",
              "      display: none;\n",
              "      fill: #1967D2;\n",
              "      height: 32px;\n",
              "      padding: 0 0 0 0;\n",
              "      width: 32px;\n",
              "    }\n",
              "\n",
              "    .colab-df-convert:hover {\n",
              "      background-color: #E2EBFA;\n",
              "      box-shadow: 0px 1px 2px rgba(60, 64, 67, 0.3), 0px 1px 3px 1px rgba(60, 64, 67, 0.15);\n",
              "      fill: #174EA6;\n",
              "    }\n",
              "\n",
              "    [theme=dark] .colab-df-convert {\n",
              "      background-color: #3B4455;\n",
              "      fill: #D2E3FC;\n",
              "    }\n",
              "\n",
              "    [theme=dark] .colab-df-convert:hover {\n",
              "      background-color: #434B5C;\n",
              "      box-shadow: 0px 1px 3px 1px rgba(0, 0, 0, 0.15);\n",
              "      filter: drop-shadow(0px 1px 2px rgba(0, 0, 0, 0.3));\n",
              "      fill: #FFFFFF;\n",
              "    }\n",
              "  </style>\n",
              "\n",
              "      <script>\n",
              "        const buttonEl =\n",
              "          document.querySelector('#df-eff747d1-7f74-4689-8ce8-b76f36d0d7d5 button.colab-df-convert');\n",
              "        buttonEl.style.display =\n",
              "          google.colab.kernel.accessAllowed ? 'block' : 'none';\n",
              "\n",
              "        async function convertToInteractive(key) {\n",
              "          const element = document.querySelector('#df-eff747d1-7f74-4689-8ce8-b76f36d0d7d5');\n",
              "          const dataTable =\n",
              "            await google.colab.kernel.invokeFunction('convertToInteractive',\n",
              "                                                     [key], {});\n",
              "          if (!dataTable) return;\n",
              "\n",
              "          const docLinkHtml = 'Like what you see? Visit the ' +\n",
              "            '<a target=\"_blank\" href=https://colab.research.google.com/notebooks/data_table.ipynb>data table notebook</a>'\n",
              "            + ' to learn more about interactive tables.';\n",
              "          element.innerHTML = '';\n",
              "          dataTable['output_type'] = 'display_data';\n",
              "          await google.colab.output.renderOutput(dataTable, element);\n",
              "          const docLink = document.createElement('div');\n",
              "          docLink.innerHTML = docLinkHtml;\n",
              "          element.appendChild(docLink);\n",
              "        }\n",
              "      </script>\n",
              "    </div>\n",
              "  </div>\n",
              "  "
            ]
          },
          "metadata": {},
          "execution_count": 8
        }
      ]
    },
    {
      "cell_type": "code",
      "source": [
        "df.set_index('Date',inplace=True)\n",
        "df.head()"
      ],
      "metadata": {
        "id": "VpJE3blU-B5R",
        "colab": {
          "base_uri": "https://localhost:8080/",
          "height": 237
        },
        "outputId": "60ac2ff1-c3c4-4ceb-c052-890dad1d3bde"
      },
      "execution_count": 9,
      "outputs": [
        {
          "output_type": "execute_result",
          "data": {
            "text/plain": [
              "                 Open       High        Low      Close  Adj Close     Volume\n",
              "Date                                                                        \n",
              "2019-04-01  47.910000  47.919998  47.095001  47.810001  46.552612  111448000\n",
              "2019-04-02  47.772499  48.615002  47.762501  48.505001  47.229336   91062800\n",
              "2019-04-03  48.312500  49.125000  48.287498  48.837502  47.553089   93087200\n",
              "2019-04-04  48.697498  49.092499  48.285000  48.922501  47.635853   76457200\n",
              "2019-04-05  49.112499  49.275002  48.982498  49.250000  47.954746   74106400"
            ],
            "text/html": [
              "\n",
              "  <div id=\"df-dedba389-ef89-4913-a57c-0707f1c4b128\">\n",
              "    <div class=\"colab-df-container\">\n",
              "      <div>\n",
              "<style scoped>\n",
              "    .dataframe tbody tr th:only-of-type {\n",
              "        vertical-align: middle;\n",
              "    }\n",
              "\n",
              "    .dataframe tbody tr th {\n",
              "        vertical-align: top;\n",
              "    }\n",
              "\n",
              "    .dataframe thead th {\n",
              "        text-align: right;\n",
              "    }\n",
              "</style>\n",
              "<table border=\"1\" class=\"dataframe\">\n",
              "  <thead>\n",
              "    <tr style=\"text-align: right;\">\n",
              "      <th></th>\n",
              "      <th>Open</th>\n",
              "      <th>High</th>\n",
              "      <th>Low</th>\n",
              "      <th>Close</th>\n",
              "      <th>Adj Close</th>\n",
              "      <th>Volume</th>\n",
              "    </tr>\n",
              "    <tr>\n",
              "      <th>Date</th>\n",
              "      <th></th>\n",
              "      <th></th>\n",
              "      <th></th>\n",
              "      <th></th>\n",
              "      <th></th>\n",
              "      <th></th>\n",
              "    </tr>\n",
              "  </thead>\n",
              "  <tbody>\n",
              "    <tr>\n",
              "      <th>2019-04-01</th>\n",
              "      <td>47.910000</td>\n",
              "      <td>47.919998</td>\n",
              "      <td>47.095001</td>\n",
              "      <td>47.810001</td>\n",
              "      <td>46.552612</td>\n",
              "      <td>111448000</td>\n",
              "    </tr>\n",
              "    <tr>\n",
              "      <th>2019-04-02</th>\n",
              "      <td>47.772499</td>\n",
              "      <td>48.615002</td>\n",
              "      <td>47.762501</td>\n",
              "      <td>48.505001</td>\n",
              "      <td>47.229336</td>\n",
              "      <td>91062800</td>\n",
              "    </tr>\n",
              "    <tr>\n",
              "      <th>2019-04-03</th>\n",
              "      <td>48.312500</td>\n",
              "      <td>49.125000</td>\n",
              "      <td>48.287498</td>\n",
              "      <td>48.837502</td>\n",
              "      <td>47.553089</td>\n",
              "      <td>93087200</td>\n",
              "    </tr>\n",
              "    <tr>\n",
              "      <th>2019-04-04</th>\n",
              "      <td>48.697498</td>\n",
              "      <td>49.092499</td>\n",
              "      <td>48.285000</td>\n",
              "      <td>48.922501</td>\n",
              "      <td>47.635853</td>\n",
              "      <td>76457200</td>\n",
              "    </tr>\n",
              "    <tr>\n",
              "      <th>2019-04-05</th>\n",
              "      <td>49.112499</td>\n",
              "      <td>49.275002</td>\n",
              "      <td>48.982498</td>\n",
              "      <td>49.250000</td>\n",
              "      <td>47.954746</td>\n",
              "      <td>74106400</td>\n",
              "    </tr>\n",
              "  </tbody>\n",
              "</table>\n",
              "</div>\n",
              "      <button class=\"colab-df-convert\" onclick=\"convertToInteractive('df-dedba389-ef89-4913-a57c-0707f1c4b128')\"\n",
              "              title=\"Convert this dataframe to an interactive table.\"\n",
              "              style=\"display:none;\">\n",
              "        \n",
              "  <svg xmlns=\"http://www.w3.org/2000/svg\" height=\"24px\"viewBox=\"0 0 24 24\"\n",
              "       width=\"24px\">\n",
              "    <path d=\"M0 0h24v24H0V0z\" fill=\"none\"/>\n",
              "    <path d=\"M18.56 5.44l.94 2.06.94-2.06 2.06-.94-2.06-.94-.94-2.06-.94 2.06-2.06.94zm-11 1L8.5 8.5l.94-2.06 2.06-.94-2.06-.94L8.5 2.5l-.94 2.06-2.06.94zm10 10l.94 2.06.94-2.06 2.06-.94-2.06-.94-.94-2.06-.94 2.06-2.06.94z\"/><path d=\"M17.41 7.96l-1.37-1.37c-.4-.4-.92-.59-1.43-.59-.52 0-1.04.2-1.43.59L10.3 9.45l-7.72 7.72c-.78.78-.78 2.05 0 2.83L4 21.41c.39.39.9.59 1.41.59.51 0 1.02-.2 1.41-.59l7.78-7.78 2.81-2.81c.8-.78.8-2.07 0-2.86zM5.41 20L4 18.59l7.72-7.72 1.47 1.35L5.41 20z\"/>\n",
              "  </svg>\n",
              "      </button>\n",
              "      \n",
              "  <style>\n",
              "    .colab-df-container {\n",
              "      display:flex;\n",
              "      flex-wrap:wrap;\n",
              "      gap: 12px;\n",
              "    }\n",
              "\n",
              "    .colab-df-convert {\n",
              "      background-color: #E8F0FE;\n",
              "      border: none;\n",
              "      border-radius: 50%;\n",
              "      cursor: pointer;\n",
              "      display: none;\n",
              "      fill: #1967D2;\n",
              "      height: 32px;\n",
              "      padding: 0 0 0 0;\n",
              "      width: 32px;\n",
              "    }\n",
              "\n",
              "    .colab-df-convert:hover {\n",
              "      background-color: #E2EBFA;\n",
              "      box-shadow: 0px 1px 2px rgba(60, 64, 67, 0.3), 0px 1px 3px 1px rgba(60, 64, 67, 0.15);\n",
              "      fill: #174EA6;\n",
              "    }\n",
              "\n",
              "    [theme=dark] .colab-df-convert {\n",
              "      background-color: #3B4455;\n",
              "      fill: #D2E3FC;\n",
              "    }\n",
              "\n",
              "    [theme=dark] .colab-df-convert:hover {\n",
              "      background-color: #434B5C;\n",
              "      box-shadow: 0px 1px 3px 1px rgba(0, 0, 0, 0.15);\n",
              "      filter: drop-shadow(0px 1px 2px rgba(0, 0, 0, 0.3));\n",
              "      fill: #FFFFFF;\n",
              "    }\n",
              "  </style>\n",
              "\n",
              "      <script>\n",
              "        const buttonEl =\n",
              "          document.querySelector('#df-dedba389-ef89-4913-a57c-0707f1c4b128 button.colab-df-convert');\n",
              "        buttonEl.style.display =\n",
              "          google.colab.kernel.accessAllowed ? 'block' : 'none';\n",
              "\n",
              "        async function convertToInteractive(key) {\n",
              "          const element = document.querySelector('#df-dedba389-ef89-4913-a57c-0707f1c4b128');\n",
              "          const dataTable =\n",
              "            await google.colab.kernel.invokeFunction('convertToInteractive',\n",
              "                                                     [key], {});\n",
              "          if (!dataTable) return;\n",
              "\n",
              "          const docLinkHtml = 'Like what you see? Visit the ' +\n",
              "            '<a target=\"_blank\" href=https://colab.research.google.com/notebooks/data_table.ipynb>data table notebook</a>'\n",
              "            + ' to learn more about interactive tables.';\n",
              "          element.innerHTML = '';\n",
              "          dataTable['output_type'] = 'display_data';\n",
              "          await google.colab.output.renderOutput(dataTable, element);\n",
              "          const docLink = document.createElement('div');\n",
              "          docLink.innerHTML = docLinkHtml;\n",
              "          element.appendChild(docLink);\n",
              "        }\n",
              "      </script>\n",
              "    </div>\n",
              "  </div>\n",
              "  "
            ]
          },
          "metadata": {},
          "execution_count": 9
        }
      ]
    },
    {
      "cell_type": "code",
      "source": [
        "!pip install finta"
      ],
      "metadata": {
        "id": "_IqSFrfHReE7",
        "colab": {
          "base_uri": "https://localhost:8080/"
        },
        "outputId": "c878a158-c37c-4a52-8560-52ce8ca83527"
      },
      "execution_count": 10,
      "outputs": [
        {
          "output_type": "stream",
          "name": "stdout",
          "text": [
            "Collecting finta\n",
            "  Downloading finta-1.3-py3-none-any.whl (29 kB)\n",
            "Requirement already satisfied: numpy in /usr/local/lib/python3.7/dist-packages (from finta) (1.21.6)\n",
            "Requirement already satisfied: pandas in /usr/local/lib/python3.7/dist-packages (from finta) (1.3.5)\n",
            "Requirement already satisfied: python-dateutil>=2.7.3 in /usr/local/lib/python3.7/dist-packages (from pandas->finta) (2.8.2)\n",
            "Requirement already satisfied: pytz>=2017.3 in /usr/local/lib/python3.7/dist-packages (from pandas->finta) (2022.1)\n",
            "Requirement already satisfied: six>=1.5 in /usr/local/lib/python3.7/dist-packages (from python-dateutil>=2.7.3->pandas->finta) (1.15.0)\n",
            "Installing collected packages: finta\n",
            "Successfully installed finta-1.3\n"
          ]
        }
      ]
    },
    {
      "cell_type": "code",
      "source": [
        "from gym_anytrading.envs import StocksEnv\n",
        "from finta import TA"
      ],
      "metadata": {
        "id": "h8pMIqY4RfxN"
      },
      "execution_count": 11,
      "outputs": []
    },
    {
      "cell_type": "code",
      "source": [
        "df['SMA']=TA.SMA(df,12)\n",
        "df['RSI']=TA.RSI(df)\n",
        "df['EMA']=TA.EMA(df)\n",
        "df['WMA']=TA.WMA(df)\n",
        "df['SMM']=TA.SMM(df)\n",
        "df['ADX']=TA.ADX(df)\n",
        "df['SSMA']=TA.SSMA(df)\n",
        "df['AveragePrice']=(df['Low']+df['High'])/2\n",
        "\n"
      ],
      "metadata": {
        "id": "Ld1CoJZ9SZWp"
      },
      "execution_count": 12,
      "outputs": []
    },
    {
      "cell_type": "code",
      "source": [
        "mean=df['AveragePrice'].mean()"
      ],
      "metadata": {
        "id": "xCAPPeG1hBAm"
      },
      "execution_count": 13,
      "outputs": []
    },
    {
      "cell_type": "code",
      "source": [
        "df.fillna(0,inplace=True)\n",
        "df.head(15)"
      ],
      "metadata": {
        "id": "dCKvhEaHWZAR",
        "colab": {
          "base_uri": "https://localhost:8080/",
          "height": 892
        },
        "outputId": "02865297-ca81-42aa-b98a-1d698b801289"
      },
      "execution_count": 14,
      "outputs": [
        {
          "output_type": "execute_result",
          "data": {
            "text/plain": [
              "                 Open       High        Low      Close  Adj Close     Volume  \\\n",
              "Date                                                                           \n",
              "2019-04-01  47.910000  47.919998  47.095001  47.810001  46.552612  111448000   \n",
              "2019-04-02  47.772499  48.615002  47.762501  48.505001  47.229336   91062800   \n",
              "2019-04-03  48.312500  49.125000  48.287498  48.837502  47.553089   93087200   \n",
              "2019-04-04  48.697498  49.092499  48.285000  48.922501  47.635853   76457200   \n",
              "2019-04-05  49.112499  49.275002  48.982498  49.250000  47.954746   74106400   \n",
              "2019-04-08  49.105000  50.057499  49.084999  50.025002  48.709366  103526800   \n",
              "2019-04-09  50.080002  50.712502  49.807499  49.875000  48.563309  143072800   \n",
              "2019-04-10  49.669998  50.185001  49.544998  50.154999  48.835938   86781200   \n",
              "2019-04-11  50.212502  50.250000  49.610001  49.737499  48.429420   83603200   \n",
              "2019-04-12  49.799999  50.035000  49.052502  49.717499  48.409946  111042800   \n",
              "2019-04-15  49.645000  49.962502  49.502499  49.807499  48.497574   70146400   \n",
              "2019-04-16  49.865002  50.342499  49.639999  49.812500  48.502441  102785600   \n",
              "2019-04-17  49.884998  50.845001  49.652500  50.782501  49.446941  115627200   \n",
              "2019-04-18  50.779999  51.037498  50.630001  50.965000  49.624641   96783200   \n",
              "2019-04-22  50.707500  51.235001  50.584999  51.132500  49.787724   77758000   \n",
              "\n",
              "                  SMA         RSI        EMA        WMA        SMM    ADX  \\\n",
              "Date                                                                        \n",
              "2019-04-01   0.000000    0.000000  47.810001   0.000000   0.000000    0.0   \n",
              "2019-04-02   0.000000  100.000000  48.196112   0.000000   0.000000    0.0   \n",
              "2019-04-03   0.000000  100.000000  48.458977   0.000000   0.000000    0.0   \n",
              "2019-04-04   0.000000  100.000000  48.615997   0.000000   0.000000    0.0   \n",
              "2019-04-05   0.000000  100.000000  48.804599   0.000000   0.000000    0.0   \n",
              "2019-04-08   0.000000  100.000000  49.135396   0.000000   0.000000    0.0   \n",
              "2019-04-09   0.000000   92.296095  49.322570   0.000000   0.000000    0.0   \n",
              "2019-04-10   0.000000   93.329177  49.522618   0.000000   0.000000    0.0   \n",
              "2019-04-11   0.000000   76.793164  49.572257  49.587222  49.250000    0.0   \n",
              "2019-04-12   0.000000   76.097591  49.604799  49.683667  49.717499    0.0   \n",
              "2019-04-15   0.000000   77.102674  49.649149  49.755722  49.737499    0.0   \n",
              "2019-04-16  49.371250   77.160145  49.684230  49.799833  49.807499    0.0   \n",
              "2019-04-17  49.618959   85.016025  49.916662  50.016278  49.812500    0.0   \n",
              "2019-04-18  49.823958   85.992236  50.135975  50.227889  49.875000  100.0   \n",
              "2019-04-22  50.015208   86.839699  50.342548  50.434889  49.875000  100.0   \n",
              "\n",
              "                 SSMA  AveragePrice  \n",
              "Date                                 \n",
              "2019-04-01  47.810001     47.507500  \n",
              "2019-04-02  48.177942     48.188751  \n",
              "2019-04-03  48.424137     48.706249  \n",
              "2019-04-04  48.571524     48.688750  \n",
              "2019-04-05  48.740904     49.128750  \n",
              "2019-04-08  49.022469     49.571249  \n",
              "2019-04-09  49.191159     50.260001  \n",
              "2019-04-10  49.366648     49.864999  \n",
              "2019-04-11  49.429696     49.930000  \n",
              "2019-04-12  49.475904     49.543751  \n",
              "2019-04-15  49.526634     49.732501  \n",
              "2019-04-16  49.568610     49.991249  \n",
              "2019-04-17  49.740709     50.248750  \n",
              "2019-04-18  49.909117     50.833749  \n",
              "2019-04-22  50.073066     50.910000  "
            ],
            "text/html": [
              "\n",
              "  <div id=\"df-f23e4f6e-976b-4e51-b581-b610b917f91a\">\n",
              "    <div class=\"colab-df-container\">\n",
              "      <div>\n",
              "<style scoped>\n",
              "    .dataframe tbody tr th:only-of-type {\n",
              "        vertical-align: middle;\n",
              "    }\n",
              "\n",
              "    .dataframe tbody tr th {\n",
              "        vertical-align: top;\n",
              "    }\n",
              "\n",
              "    .dataframe thead th {\n",
              "        text-align: right;\n",
              "    }\n",
              "</style>\n",
              "<table border=\"1\" class=\"dataframe\">\n",
              "  <thead>\n",
              "    <tr style=\"text-align: right;\">\n",
              "      <th></th>\n",
              "      <th>Open</th>\n",
              "      <th>High</th>\n",
              "      <th>Low</th>\n",
              "      <th>Close</th>\n",
              "      <th>Adj Close</th>\n",
              "      <th>Volume</th>\n",
              "      <th>SMA</th>\n",
              "      <th>RSI</th>\n",
              "      <th>EMA</th>\n",
              "      <th>WMA</th>\n",
              "      <th>SMM</th>\n",
              "      <th>ADX</th>\n",
              "      <th>SSMA</th>\n",
              "      <th>AveragePrice</th>\n",
              "    </tr>\n",
              "    <tr>\n",
              "      <th>Date</th>\n",
              "      <th></th>\n",
              "      <th></th>\n",
              "      <th></th>\n",
              "      <th></th>\n",
              "      <th></th>\n",
              "      <th></th>\n",
              "      <th></th>\n",
              "      <th></th>\n",
              "      <th></th>\n",
              "      <th></th>\n",
              "      <th></th>\n",
              "      <th></th>\n",
              "      <th></th>\n",
              "      <th></th>\n",
              "    </tr>\n",
              "  </thead>\n",
              "  <tbody>\n",
              "    <tr>\n",
              "      <th>2019-04-01</th>\n",
              "      <td>47.910000</td>\n",
              "      <td>47.919998</td>\n",
              "      <td>47.095001</td>\n",
              "      <td>47.810001</td>\n",
              "      <td>46.552612</td>\n",
              "      <td>111448000</td>\n",
              "      <td>0.000000</td>\n",
              "      <td>0.000000</td>\n",
              "      <td>47.810001</td>\n",
              "      <td>0.000000</td>\n",
              "      <td>0.000000</td>\n",
              "      <td>0.0</td>\n",
              "      <td>47.810001</td>\n",
              "      <td>47.507500</td>\n",
              "    </tr>\n",
              "    <tr>\n",
              "      <th>2019-04-02</th>\n",
              "      <td>47.772499</td>\n",
              "      <td>48.615002</td>\n",
              "      <td>47.762501</td>\n",
              "      <td>48.505001</td>\n",
              "      <td>47.229336</td>\n",
              "      <td>91062800</td>\n",
              "      <td>0.000000</td>\n",
              "      <td>100.000000</td>\n",
              "      <td>48.196112</td>\n",
              "      <td>0.000000</td>\n",
              "      <td>0.000000</td>\n",
              "      <td>0.0</td>\n",
              "      <td>48.177942</td>\n",
              "      <td>48.188751</td>\n",
              "    </tr>\n",
              "    <tr>\n",
              "      <th>2019-04-03</th>\n",
              "      <td>48.312500</td>\n",
              "      <td>49.125000</td>\n",
              "      <td>48.287498</td>\n",
              "      <td>48.837502</td>\n",
              "      <td>47.553089</td>\n",
              "      <td>93087200</td>\n",
              "      <td>0.000000</td>\n",
              "      <td>100.000000</td>\n",
              "      <td>48.458977</td>\n",
              "      <td>0.000000</td>\n",
              "      <td>0.000000</td>\n",
              "      <td>0.0</td>\n",
              "      <td>48.424137</td>\n",
              "      <td>48.706249</td>\n",
              "    </tr>\n",
              "    <tr>\n",
              "      <th>2019-04-04</th>\n",
              "      <td>48.697498</td>\n",
              "      <td>49.092499</td>\n",
              "      <td>48.285000</td>\n",
              "      <td>48.922501</td>\n",
              "      <td>47.635853</td>\n",
              "      <td>76457200</td>\n",
              "      <td>0.000000</td>\n",
              "      <td>100.000000</td>\n",
              "      <td>48.615997</td>\n",
              "      <td>0.000000</td>\n",
              "      <td>0.000000</td>\n",
              "      <td>0.0</td>\n",
              "      <td>48.571524</td>\n",
              "      <td>48.688750</td>\n",
              "    </tr>\n",
              "    <tr>\n",
              "      <th>2019-04-05</th>\n",
              "      <td>49.112499</td>\n",
              "      <td>49.275002</td>\n",
              "      <td>48.982498</td>\n",
              "      <td>49.250000</td>\n",
              "      <td>47.954746</td>\n",
              "      <td>74106400</td>\n",
              "      <td>0.000000</td>\n",
              "      <td>100.000000</td>\n",
              "      <td>48.804599</td>\n",
              "      <td>0.000000</td>\n",
              "      <td>0.000000</td>\n",
              "      <td>0.0</td>\n",
              "      <td>48.740904</td>\n",
              "      <td>49.128750</td>\n",
              "    </tr>\n",
              "    <tr>\n",
              "      <th>2019-04-08</th>\n",
              "      <td>49.105000</td>\n",
              "      <td>50.057499</td>\n",
              "      <td>49.084999</td>\n",
              "      <td>50.025002</td>\n",
              "      <td>48.709366</td>\n",
              "      <td>103526800</td>\n",
              "      <td>0.000000</td>\n",
              "      <td>100.000000</td>\n",
              "      <td>49.135396</td>\n",
              "      <td>0.000000</td>\n",
              "      <td>0.000000</td>\n",
              "      <td>0.0</td>\n",
              "      <td>49.022469</td>\n",
              "      <td>49.571249</td>\n",
              "    </tr>\n",
              "    <tr>\n",
              "      <th>2019-04-09</th>\n",
              "      <td>50.080002</td>\n",
              "      <td>50.712502</td>\n",
              "      <td>49.807499</td>\n",
              "      <td>49.875000</td>\n",
              "      <td>48.563309</td>\n",
              "      <td>143072800</td>\n",
              "      <td>0.000000</td>\n",
              "      <td>92.296095</td>\n",
              "      <td>49.322570</td>\n",
              "      <td>0.000000</td>\n",
              "      <td>0.000000</td>\n",
              "      <td>0.0</td>\n",
              "      <td>49.191159</td>\n",
              "      <td>50.260001</td>\n",
              "    </tr>\n",
              "    <tr>\n",
              "      <th>2019-04-10</th>\n",
              "      <td>49.669998</td>\n",
              "      <td>50.185001</td>\n",
              "      <td>49.544998</td>\n",
              "      <td>50.154999</td>\n",
              "      <td>48.835938</td>\n",
              "      <td>86781200</td>\n",
              "      <td>0.000000</td>\n",
              "      <td>93.329177</td>\n",
              "      <td>49.522618</td>\n",
              "      <td>0.000000</td>\n",
              "      <td>0.000000</td>\n",
              "      <td>0.0</td>\n",
              "      <td>49.366648</td>\n",
              "      <td>49.864999</td>\n",
              "    </tr>\n",
              "    <tr>\n",
              "      <th>2019-04-11</th>\n",
              "      <td>50.212502</td>\n",
              "      <td>50.250000</td>\n",
              "      <td>49.610001</td>\n",
              "      <td>49.737499</td>\n",
              "      <td>48.429420</td>\n",
              "      <td>83603200</td>\n",
              "      <td>0.000000</td>\n",
              "      <td>76.793164</td>\n",
              "      <td>49.572257</td>\n",
              "      <td>49.587222</td>\n",
              "      <td>49.250000</td>\n",
              "      <td>0.0</td>\n",
              "      <td>49.429696</td>\n",
              "      <td>49.930000</td>\n",
              "    </tr>\n",
              "    <tr>\n",
              "      <th>2019-04-12</th>\n",
              "      <td>49.799999</td>\n",
              "      <td>50.035000</td>\n",
              "      <td>49.052502</td>\n",
              "      <td>49.717499</td>\n",
              "      <td>48.409946</td>\n",
              "      <td>111042800</td>\n",
              "      <td>0.000000</td>\n",
              "      <td>76.097591</td>\n",
              "      <td>49.604799</td>\n",
              "      <td>49.683667</td>\n",
              "      <td>49.717499</td>\n",
              "      <td>0.0</td>\n",
              "      <td>49.475904</td>\n",
              "      <td>49.543751</td>\n",
              "    </tr>\n",
              "    <tr>\n",
              "      <th>2019-04-15</th>\n",
              "      <td>49.645000</td>\n",
              "      <td>49.962502</td>\n",
              "      <td>49.502499</td>\n",
              "      <td>49.807499</td>\n",
              "      <td>48.497574</td>\n",
              "      <td>70146400</td>\n",
              "      <td>0.000000</td>\n",
              "      <td>77.102674</td>\n",
              "      <td>49.649149</td>\n",
              "      <td>49.755722</td>\n",
              "      <td>49.737499</td>\n",
              "      <td>0.0</td>\n",
              "      <td>49.526634</td>\n",
              "      <td>49.732501</td>\n",
              "    </tr>\n",
              "    <tr>\n",
              "      <th>2019-04-16</th>\n",
              "      <td>49.865002</td>\n",
              "      <td>50.342499</td>\n",
              "      <td>49.639999</td>\n",
              "      <td>49.812500</td>\n",
              "      <td>48.502441</td>\n",
              "      <td>102785600</td>\n",
              "      <td>49.371250</td>\n",
              "      <td>77.160145</td>\n",
              "      <td>49.684230</td>\n",
              "      <td>49.799833</td>\n",
              "      <td>49.807499</td>\n",
              "      <td>0.0</td>\n",
              "      <td>49.568610</td>\n",
              "      <td>49.991249</td>\n",
              "    </tr>\n",
              "    <tr>\n",
              "      <th>2019-04-17</th>\n",
              "      <td>49.884998</td>\n",
              "      <td>50.845001</td>\n",
              "      <td>49.652500</td>\n",
              "      <td>50.782501</td>\n",
              "      <td>49.446941</td>\n",
              "      <td>115627200</td>\n",
              "      <td>49.618959</td>\n",
              "      <td>85.016025</td>\n",
              "      <td>49.916662</td>\n",
              "      <td>50.016278</td>\n",
              "      <td>49.812500</td>\n",
              "      <td>0.0</td>\n",
              "      <td>49.740709</td>\n",
              "      <td>50.248750</td>\n",
              "    </tr>\n",
              "    <tr>\n",
              "      <th>2019-04-18</th>\n",
              "      <td>50.779999</td>\n",
              "      <td>51.037498</td>\n",
              "      <td>50.630001</td>\n",
              "      <td>50.965000</td>\n",
              "      <td>49.624641</td>\n",
              "      <td>96783200</td>\n",
              "      <td>49.823958</td>\n",
              "      <td>85.992236</td>\n",
              "      <td>50.135975</td>\n",
              "      <td>50.227889</td>\n",
              "      <td>49.875000</td>\n",
              "      <td>100.0</td>\n",
              "      <td>49.909117</td>\n",
              "      <td>50.833749</td>\n",
              "    </tr>\n",
              "    <tr>\n",
              "      <th>2019-04-22</th>\n",
              "      <td>50.707500</td>\n",
              "      <td>51.235001</td>\n",
              "      <td>50.584999</td>\n",
              "      <td>51.132500</td>\n",
              "      <td>49.787724</td>\n",
              "      <td>77758000</td>\n",
              "      <td>50.015208</td>\n",
              "      <td>86.839699</td>\n",
              "      <td>50.342548</td>\n",
              "      <td>50.434889</td>\n",
              "      <td>49.875000</td>\n",
              "      <td>100.0</td>\n",
              "      <td>50.073066</td>\n",
              "      <td>50.910000</td>\n",
              "    </tr>\n",
              "  </tbody>\n",
              "</table>\n",
              "</div>\n",
              "      <button class=\"colab-df-convert\" onclick=\"convertToInteractive('df-f23e4f6e-976b-4e51-b581-b610b917f91a')\"\n",
              "              title=\"Convert this dataframe to an interactive table.\"\n",
              "              style=\"display:none;\">\n",
              "        \n",
              "  <svg xmlns=\"http://www.w3.org/2000/svg\" height=\"24px\"viewBox=\"0 0 24 24\"\n",
              "       width=\"24px\">\n",
              "    <path d=\"M0 0h24v24H0V0z\" fill=\"none\"/>\n",
              "    <path d=\"M18.56 5.44l.94 2.06.94-2.06 2.06-.94-2.06-.94-.94-2.06-.94 2.06-2.06.94zm-11 1L8.5 8.5l.94-2.06 2.06-.94-2.06-.94L8.5 2.5l-.94 2.06-2.06.94zm10 10l.94 2.06.94-2.06 2.06-.94-2.06-.94-.94-2.06-.94 2.06-2.06.94z\"/><path d=\"M17.41 7.96l-1.37-1.37c-.4-.4-.92-.59-1.43-.59-.52 0-1.04.2-1.43.59L10.3 9.45l-7.72 7.72c-.78.78-.78 2.05 0 2.83L4 21.41c.39.39.9.59 1.41.59.51 0 1.02-.2 1.41-.59l7.78-7.78 2.81-2.81c.8-.78.8-2.07 0-2.86zM5.41 20L4 18.59l7.72-7.72 1.47 1.35L5.41 20z\"/>\n",
              "  </svg>\n",
              "      </button>\n",
              "      \n",
              "  <style>\n",
              "    .colab-df-container {\n",
              "      display:flex;\n",
              "      flex-wrap:wrap;\n",
              "      gap: 12px;\n",
              "    }\n",
              "\n",
              "    .colab-df-convert {\n",
              "      background-color: #E8F0FE;\n",
              "      border: none;\n",
              "      border-radius: 50%;\n",
              "      cursor: pointer;\n",
              "      display: none;\n",
              "      fill: #1967D2;\n",
              "      height: 32px;\n",
              "      padding: 0 0 0 0;\n",
              "      width: 32px;\n",
              "    }\n",
              "\n",
              "    .colab-df-convert:hover {\n",
              "      background-color: #E2EBFA;\n",
              "      box-shadow: 0px 1px 2px rgba(60, 64, 67, 0.3), 0px 1px 3px 1px rgba(60, 64, 67, 0.15);\n",
              "      fill: #174EA6;\n",
              "    }\n",
              "\n",
              "    [theme=dark] .colab-df-convert {\n",
              "      background-color: #3B4455;\n",
              "      fill: #D2E3FC;\n",
              "    }\n",
              "\n",
              "    [theme=dark] .colab-df-convert:hover {\n",
              "      background-color: #434B5C;\n",
              "      box-shadow: 0px 1px 3px 1px rgba(0, 0, 0, 0.15);\n",
              "      filter: drop-shadow(0px 1px 2px rgba(0, 0, 0, 0.3));\n",
              "      fill: #FFFFFF;\n",
              "    }\n",
              "  </style>\n",
              "\n",
              "      <script>\n",
              "        const buttonEl =\n",
              "          document.querySelector('#df-f23e4f6e-976b-4e51-b581-b610b917f91a button.colab-df-convert');\n",
              "        buttonEl.style.display =\n",
              "          google.colab.kernel.accessAllowed ? 'block' : 'none';\n",
              "\n",
              "        async function convertToInteractive(key) {\n",
              "          const element = document.querySelector('#df-f23e4f6e-976b-4e51-b581-b610b917f91a');\n",
              "          const dataTable =\n",
              "            await google.colab.kernel.invokeFunction('convertToInteractive',\n",
              "                                                     [key], {});\n",
              "          if (!dataTable) return;\n",
              "\n",
              "          const docLinkHtml = 'Like what you see? Visit the ' +\n",
              "            '<a target=\"_blank\" href=https://colab.research.google.com/notebooks/data_table.ipynb>data table notebook</a>'\n",
              "            + ' to learn more about interactive tables.';\n",
              "          element.innerHTML = '';\n",
              "          dataTable['output_type'] = 'display_data';\n",
              "          await google.colab.output.renderOutput(dataTable, element);\n",
              "          const docLink = document.createElement('div');\n",
              "          docLink.innerHTML = docLinkHtml;\n",
              "          element.appendChild(docLink);\n",
              "        }\n",
              "      </script>\n",
              "    </div>\n",
              "  </div>\n",
              "  "
            ]
          },
          "metadata": {},
          "execution_count": 14
        }
      ]
    },
    {
      "cell_type": "code",
      "source": [
        "df.median()"
      ],
      "metadata": {
        "id": "erJJp5R-Tg5g",
        "colab": {
          "base_uri": "https://localhost:8080/"
        },
        "outputId": "bf576680-0eab-420e-b6f7-b1de37287f3f"
      },
      "execution_count": 15,
      "outputs": [
        {
          "output_type": "execute_result",
          "data": {
            "text/plain": [
              "Open            1.157250e+02\n",
              "High            1.172113e+02\n",
              "Low             1.140687e+02\n",
              "Close           1.156350e+02\n",
              "Adj Close       1.145826e+02\n",
              "Volume          1.029060e+08\n",
              "SMA             1.156642e+02\n",
              "RSI             5.807053e+01\n",
              "EMA             1.158614e+02\n",
              "WMA             1.154107e+02\n",
              "SMM             1.154500e+02\n",
              "ADX             2.613903e+01\n",
              "SSMA            1.156125e+02\n",
              "AveragePrice    1.158475e+02\n",
              "dtype: float64"
            ]
          },
          "metadata": {},
          "execution_count": 15
        }
      ]
    },
    {
      "cell_type": "code",
      "source": [
        "q1=df.quantile(0.25)\n",
        "q3=df.quantile(0.75)\n",
        "IQR=q3-q1"
      ],
      "metadata": {
        "id": "A5InN1LgTgmL"
      },
      "execution_count": 16,
      "outputs": []
    },
    {
      "cell_type": "code",
      "source": [
        "IQR\n"
      ],
      "metadata": {
        "id": "rOQC-mksTgRA",
        "colab": {
          "base_uri": "https://localhost:8080/"
        },
        "outputId": "52deceb4-4103-434f-edfc-d3c679539e58"
      },
      "execution_count": 17,
      "outputs": [
        {
          "output_type": "execute_result",
          "data": {
            "text/plain": [
              "Open            7.310376e+01\n",
              "High            7.509437e+01\n",
              "Low             7.238938e+01\n",
              "Close           7.409500e+01\n",
              "Adj Close       7.461453e+01\n",
              "Volume          5.593585e+07\n",
              "SMA             7.089151e+01\n",
              "RSI             1.749014e+01\n",
              "EMA             7.073047e+01\n",
              "WMA             7.180272e+01\n",
              "SMM             7.090312e+01\n",
              "ADX             1.492179e+01\n",
              "SSMA            6.970480e+01\n",
              "AveragePrice    7.375593e+01\n",
              "dtype: float64"
            ]
          },
          "metadata": {},
          "execution_count": 17
        }
      ]
    },
    {
      "cell_type": "code",
      "source": [
        "W1,W2=q1-1.5*IQR,q3+1.5*IQR"
      ],
      "metadata": {
        "id": "n1gqxhjITf26"
      },
      "execution_count": 18,
      "outputs": []
    },
    {
      "cell_type": "code",
      "source": [
        "W1\n"
      ],
      "metadata": {
        "id": "CEiUPgYsUDuE",
        "colab": {
          "base_uri": "https://localhost:8080/"
        },
        "outputId": "237794d7-b893-419c-fcc1-cc0b3d25419a"
      },
      "execution_count": 19,
      "outputs": [
        {
          "output_type": "execute_result",
          "data": {
            "text/plain": [
              "Open           -4.324689e+01\n",
              "High           -4.562593e+01\n",
              "Low            -4.283344e+01\n",
              "Close          -4.456500e+01\n",
              "Adj Close      -4.629977e+01\n",
              "Volume         -2.536625e+06\n",
              "SMA            -4.021503e+01\n",
              "RSI             2.244106e+01\n",
              "EMA            -3.997568e+01\n",
              "WMA            -4.153742e+01\n",
              "SMM            -4.016781e+01\n",
              "ADX            -2.727442e+00\n",
              "SSMA           -3.893272e+01\n",
              "AveragePrice   -4.413484e+01\n",
              "dtype: float64"
            ]
          },
          "metadata": {},
          "execution_count": 19
        }
      ]
    },
    {
      "cell_type": "code",
      "source": [
        "W2"
      ],
      "metadata": {
        "id": "Y3frJQVqaPgc",
        "colab": {
          "base_uri": "https://localhost:8080/"
        },
        "outputId": "6faea71e-f138-4b2f-e19c-ea61f1affaab"
      },
      "execution_count": 20,
      "outputs": [
        {
          "output_type": "execute_result",
          "data": {
            "text/plain": [
              "Open            2.491681e+02\n",
              "High            2.547516e+02\n",
              "Low             2.467241e+02\n",
              "Close           2.518150e+02\n",
              "Adj Close       2.521584e+02\n",
              "Volume          2.212068e+08\n",
              "SMA             2.433510e+02\n",
              "RSI             9.240164e+01\n",
              "EMA             2.429462e+02\n",
              "WMA             2.456735e+02\n",
              "SMM             2.434447e+02\n",
              "ADX             5.695971e+01\n",
              "SSMA            2.398865e+02\n",
              "AveragePrice    2.508889e+02\n",
              "dtype: float64"
            ]
          },
          "metadata": {},
          "execution_count": 20
        }
      ]
    },
    {
      "cell_type": "code",
      "source": [
        "_=plt.boxplot(df.AveragePrice,vert=False)\n",
        "_=plt.title('Boxplot')"
      ],
      "metadata": {
        "id": "QCHVpLOVUEYG",
        "colab": {
          "base_uri": "https://localhost:8080/",
          "height": 281
        },
        "outputId": "e68e72ea-c717-4d24-9ef4-f3cb8714806c"
      },
      "execution_count": 21,
      "outputs": [
        {
          "output_type": "display_data",
          "data": {
            "text/plain": [
              "<Figure size 432x288 with 1 Axes>"
            ],
            "image/png": "[encoded data removed]"
          },
          "metadata": {
            "needs_background": "light"
          }
        }
      ]
    },
    {
      "cell_type": "code",
      "source": [
        "q_low = df[\"AveragePrice\"].quantile(0.01)\n",
        "q_hi  = df[\"AveragePrice\"].quantile(0.99)\n",
        "\n",
        "df_filtered = df[(df[\"AveragePrice\"] < q_hi) & (df[\"AveragePrice\"] > q_low)]"
      ],
      "metadata": {
        "id": "9hEWODFHVN_I"
      },
      "execution_count": 22,
      "outputs": []
    },
    {
      "cell_type": "code",
      "source": [
        ""
      ],
      "metadata": {
        "id": "k9PCDPubVOQf"
      },
      "execution_count": 22,
      "outputs": []
    },
    {
      "cell_type": "code",
      "source": [
        ""
      ],
      "metadata": {
        "id": "kzT5fMChVOd4"
      },
      "execution_count": 22,
      "outputs": []
    },
    {
      "cell_type": "code",
      "source": [
        ""
      ],
      "metadata": {
        "id": "710jrqFHVOs_"
      },
      "execution_count": 22,
      "outputs": []
    },
    {
      "cell_type": "code",
      "source": [
        "def add_signals(env):\n",
        "  start=env.frame_bound[0]-env.window_size\n",
        "  end=env.frame_bound[1]\n",
        "  prices=env.df.loc[:,'AveragePrice'].to_numpy()[start:end]\n",
        "  signal_features=env.df.loc[:,['AveragePrice','Volume','SMA','RSI','EMA','WMA','SMM','ADX','SSMA']].to_numpy()[start:end]\n",
        "  return prices,signal_features\n"
      ],
      "metadata": {
        "id": "lg1iNSSlWZlT"
      },
      "execution_count": 23,
      "outputs": []
    },
    {
      "cell_type": "code",
      "source": [
        "class MyCustomEnv(StocksEnv):\n",
        "  _process_data=add_signals\n",
        "\n",
        "env2=MyCustomEnv(df=df,window_size=12,frame_bound=(12,300))"
      ],
      "metadata": {
        "id": "akncE-Syerpo"
      },
      "execution_count": 24,
      "outputs": []
    },
    {
      "cell_type": "code",
      "source": [
        "env2.prices"
      ],
      "metadata": {
        "id": "vMtq876TglOw",
        "colab": {
          "base_uri": "https://localhost:8080/"
        },
        "outputId": "a329b788-de42-44c9-e753-d338cf7bc0d0"
      },
      "execution_count": 25,
      "outputs": [
        {
          "output_type": "execute_result",
          "data": {
            "text/plain": [
              "array([47.5074995, 48.1887515, 48.706249 , 48.6887495, 49.12875  ,\n",
              "       49.571249 , 50.2600005, 49.8649995, 49.9300005, 49.543751 ,\n",
              "       49.7325005, 49.991249 , 50.2487505, 50.8337495, 50.91     ,\n",
              "       51.456249 , 51.94125  , 51.609999 , 50.8899995, 51.22875  ,\n",
              "       50.313749 , 53.067499 , 52.5974995, 52.758749 , 51.5424995,\n",
              "       51.03125  , 50.8862495, 49.7924995, 48.9525015, 46.5412505,\n",
              "       46.88875  , 47.2212505, 47.6637495, 47.2074985, 45.578751 ,\n",
              "       46.5874995, 46.0325015, 44.7937485, 45.0949995, 44.8125   ,\n",
              "       44.418751 , 44.4874995, 44.122501 , 43.5237505, 44.2937505,\n",
              "       45.7662505, 45.952499 , 47.2112505, 48.373749 , 48.700001 ,\n",
              "       48.67     , 48.79875  , 47.98625  , 48.391251 , 49.4375   ,\n",
              "       49.64875  , 49.83     , 49.875    , 49.7912505, 49.3187485,\n",
              "       49.7925015, 50.142502 , 49.5687505, 50.6424995, 50.5612505,\n",
              "       50.891251 , 50.997499 , 49.9762495, 50.039999 , 50.661249 ,\n",
              "       50.762501 , 50.7749995, 51.2337495, 51.20125  , 51.045    ,\n",
              "       51.1975   , 51.1075   , 51.3549995, 52.0249995, 52.039999 ,\n",
              "       51.99625  , 52.1087495, 52.3850005, 52.18375  , 54.08375  ,\n",
              "       53.0962505, 51.0074995, 48.903749 , 49.01375  , 49.1725005,\n",
              "       50.365    , 50.2562485, 50.1499995, 51.5774995, 51.12875  ,\n",
              "       50.60125  , 51.375    , 52.8449995, 52.958752 , 53.15625  ,\n",
              "       53.1487505, 51.6312505, 51.53125  , 51.5100005, 51.130001 ,\n",
              "       51.9975015, 52.206249 , 51.3999995, 52.1000005, 53.1849995,\n",
              "       53.3662495, 53.4387515, 53.561251 , 55.1800005, 56.16     ,\n",
              "       54.7262495, 54.71125  , 54.9925005, 55.2862515, 55.516249 ,\n",
              "       55.0037495, 54.6862485, 54.960001 , 54.83     , 54.9712505,\n",
              "       54.780001 , 55.671249 , 56.5524995, 55.188749 , 54.5112515,\n",
              "       56.4225005, 56.9712485, 56.5487495, 56.678749 , 57.217501 ,\n",
              "       58.7437495, 59.1000005, 59.0662495, 58.555    , 58.7087495,\n",
              "       58.983749 , 59.7887515, 60.227499 , 60.5575005, 60.82625  ,\n",
              "       61.20125  , 61.99625  , 61.540001 , 60.8137515, 60.8037495,\n",
              "       63.1362495, 64.1537515, 64.3137515, 64.1074985, 64.807499 ,\n",
              "       64.6612515, 65.09375  , 65.4637525, 65.731251 , 65.8725015,\n",
              "       66.098751 , 66.4575005, 66.673752 , 65.8099975, 65.64875  ,\n",
              "       65.5024985, 66.119999 , 66.2075005, 66.661251 , 66.737499 ,\n",
              "       66.4625015, 64.477501 , 65.4987485, 66.0775035, 67.2874985,\n",
              "       66.963749 , 66.991249 , 67.450001 , 67.4850005, 68.2787475,\n",
              "       69.7212525, 70.071247 , 70.1274985, 70.0162505, 70.1512485,\n",
              "       70.5774995, 70.9762535, 71.835003 , 72.7612495, 72.2387505,\n",
              "       72.8999975, 74.4737515, 74.6349985, 74.088749 , 74.7975005,\n",
              "       75.200001 , 77.0787505, 77.6150015, 78.5275   , 78.7175025,\n",
              "       78.1312485, 78.473751 , 79.217499 , 79.3774985, 79.6624985,\n",
              "       79.4012485, 80.106247 , 77.081249 , 78.8237495, 81.1537515,\n",
              "       80.3549995, 78.87125  , 76.963749 , 79.1587525, 80.4637525,\n",
              "       80.685001 , 80.174999 , 79.4249995, 80.326248 , 81.08625  ,\n",
              "       81.196251 , 81.1037525, 79.294998 , 80.571251 , 80.357498 ,\n",
              "       78.8687515, 74.1762505, 73.5825005, 73.0475005, 69.869999 ,\n",
              "       66.8475   , 72.3950005, 73.7249985, 74.5662495, 73.869999 ,\n",
              "       71.5062525, 67.6362495, 69.47625  , 69.134998 , 64.75     ,\n",
              "       66.608751 , 62.3849985, 62.001247 , 60.8899995, 61.9312495,\n",
              "       59.97875  , 55.13875  , 60.248751 , 62.8187505, 63.129999 ,\n",
              "       62.865    , 63.1149995, 64.311249 , 60.9812505, 60.256248 ,\n",
              "       60.5837495, 64.0612485, 66.3375015, 66.075001 , 66.8462525,\n",
              "       67.44125  , 70.7874985, 70.869999 , 71.3187525, 70.4762495,\n",
              "       69.81625  , 67.834999 , 68.7625005, 69.5774995, 70.001251 ,\n",
              "       70.5612525, 70.50375  , 71.6950035, 72.860001 , 73.106251 ,\n",
              "       72.5012515, 74.432499 , 75.2637485, 75.8925015, 76.830002 ,\n",
              "       78.0362475, 78.825001 , 77.3950005, 76.415001 , 76.013748 ,\n",
              "       78.352501 , 78.9412495, 79.504997 , 79.5950015, 79.3225025,\n",
              "       80.092499 , 78.9749985, 79.883751 , 79.702499 , 79.945    ,\n",
              "       80.2962495, 81.0625   , 80.7999995, 81.8725015, 82.615002 ])"
            ]
          },
          "metadata": {},
          "execution_count": 25
        }
      ]
    },
    {
      "cell_type": "code",
      "source": [
        "print(\"env2 information:\")\n",
        "print(\"> shape:\", env2.shape)\n",
        "print(\"> df.shape:\", env2.df.shape)\n",
        "print(\"> prices.shape:\", env2.prices.shape)\n",
        "print(\"> signal_features.shape:\", env2.signal_features.shape)\n",
        "print(\"> max_possible_profit:\", env2.max_possible_profit())"
      ],
      "metadata": {
        "id": "Mqyztf2LiV6g",
        "colab": {
          "base_uri": "https://localhost:8080/"
        },
        "outputId": "c0e06fb6-bb34-481c-94dc-53825b65c167"
      },
      "execution_count": 26,
      "outputs": [
        {
          "output_type": "stream",
          "name": "stdout",
          "text": [
            "env2 information:\n",
            "> shape: (12, 9)\n",
            "> df.shape: (758, 14)\n",
            "> prices.shape: (300,)\n",
            "> signal_features.shape: (300, 9)\n",
            "> max_possible_profit: 8.49464557615683\n"
          ]
        }
      ]
    },
    {
      "cell_type": "code",
      "source": [
        "env2.reset()\n",
        "env2.render()"
      ],
      "metadata": {
        "id": "hnl2LPsedBeA",
        "colab": {
          "base_uri": "https://localhost:8080/",
          "height": 294
        },
        "outputId": "3b9f420d-28f0-4996-8ffe-86a4a7ba8361"
      },
      "execution_count": 27,
      "outputs": [
        {
          "output_type": "display_data",
          "data": {
            "text/plain": [
              "<Figure size 432x288 with 1 Axes>"
            ],
            "image/png": "[encoded data removed]"
          },
          "metadata": {
            "needs_background": "light"
          }
        }
      ]
    },
    {
      "cell_type": "code",
      "source": [
        "env2.prices"
      ],
      "metadata": {
        "id": "RgaHJgMUdCHX",
        "colab": {
          "base_uri": "https://localhost:8080/"
        },
        "outputId": "fd5dc887-f27b-4dc3-a822-b61ae8c1b912"
      },
      "execution_count": 28,
      "outputs": [
        {
          "output_type": "execute_result",
          "data": {
            "text/plain": [
              "array([47.5074995, 48.1887515, 48.706249 , 48.6887495, 49.12875  ,\n",
              "       49.571249 , 50.2600005, 49.8649995, 49.9300005, 49.543751 ,\n",
              "       49.7325005, 49.991249 , 50.2487505, 50.8337495, 50.91     ,\n",
              "       51.456249 , 51.94125  , 51.609999 , 50.8899995, 51.22875  ,\n",
              "       50.313749 , 53.067499 , 52.5974995, 52.758749 , 51.5424995,\n",
              "       51.03125  , 50.8862495, 49.7924995, 48.9525015, 46.5412505,\n",
              "       46.88875  , 47.2212505, 47.6637495, 47.2074985, 45.578751 ,\n",
              "       46.5874995, 46.0325015, 44.7937485, 45.0949995, 44.8125   ,\n",
              "       44.418751 , 44.4874995, 44.122501 , 43.5237505, 44.2937505,\n",
              "       45.7662505, 45.952499 , 47.2112505, 48.373749 , 48.700001 ,\n",
              "       48.67     , 48.79875  , 47.98625  , 48.391251 , 49.4375   ,\n",
              "       49.64875  , 49.83     , 49.875    , 49.7912505, 49.3187485,\n",
              "       49.7925015, 50.142502 , 49.5687505, 50.6424995, 50.5612505,\n",
              "       50.891251 , 50.997499 , 49.9762495, 50.039999 , 50.661249 ,\n",
              "       50.762501 , 50.7749995, 51.2337495, 51.20125  , 51.045    ,\n",
              "       51.1975   , 51.1075   , 51.3549995, 52.0249995, 52.039999 ,\n",
              "       51.99625  , 52.1087495, 52.3850005, 52.18375  , 54.08375  ,\n",
              "       53.0962505, 51.0074995, 48.903749 , 49.01375  , 49.1725005,\n",
              "       50.365    , 50.2562485, 50.1499995, 51.5774995, 51.12875  ,\n",
              "       50.60125  , 51.375    , 52.8449995, 52.958752 , 53.15625  ,\n",
              "       53.1487505, 51.6312505, 51.53125  , 51.5100005, 51.130001 ,\n",
              "       51.9975015, 52.206249 , 51.3999995, 52.1000005, 53.1849995,\n",
              "       53.3662495, 53.4387515, 53.561251 , 55.1800005, 56.16     ,\n",
              "       54.7262495, 54.71125  , 54.9925005, 55.2862515, 55.516249 ,\n",
              "       55.0037495, 54.6862485, 54.960001 , 54.83     , 54.9712505,\n",
              "       54.780001 , 55.671249 , 56.5524995, 55.188749 , 54.5112515,\n",
              "       56.4225005, 56.9712485, 56.5487495, 56.678749 , 57.217501 ,\n",
              "       58.7437495, 59.1000005, 59.0662495, 58.555    , 58.7087495,\n",
              "       58.983749 , 59.7887515, 60.227499 , 60.5575005, 60.82625  ,\n",
              "       61.20125  , 61.99625  , 61.540001 , 60.8137515, 60.8037495,\n",
              "       63.1362495, 64.1537515, 64.3137515, 64.1074985, 64.807499 ,\n",
              "       64.6612515, 65.09375  , 65.4637525, 65.731251 , 65.8725015,\n",
              "       66.098751 , 66.4575005, 66.673752 , 65.8099975, 65.64875  ,\n",
              "       65.5024985, 66.119999 , 66.2075005, 66.661251 , 66.737499 ,\n",
              "       66.4625015, 64.477501 , 65.4987485, 66.0775035, 67.2874985,\n",
              "       66.963749 , 66.991249 , 67.450001 , 67.4850005, 68.2787475,\n",
              "       69.7212525, 70.071247 , 70.1274985, 70.0162505, 70.1512485,\n",
              "       70.5774995, 70.9762535, 71.835003 , 72.7612495, 72.2387505,\n",
              "       72.8999975, 74.4737515, 74.6349985, 74.088749 , 74.7975005,\n",
              "       75.200001 , 77.0787505, 77.6150015, 78.5275   , 78.7175025,\n",
              "       78.1312485, 78.473751 , 79.217499 , 79.3774985, 79.6624985,\n",
              "       79.4012485, 80.106247 , 77.081249 , 78.8237495, 81.1537515,\n",
              "       80.3549995, 78.87125  , 76.963749 , 79.1587525, 80.4637525,\n",
              "       80.685001 , 80.174999 , 79.4249995, 80.326248 , 81.08625  ,\n",
              "       81.196251 , 81.1037525, 79.294998 , 80.571251 , 80.357498 ,\n",
              "       78.8687515, 74.1762505, 73.5825005, 73.0475005, 69.869999 ,\n",
              "       66.8475   , 72.3950005, 73.7249985, 74.5662495, 73.869999 ,\n",
              "       71.5062525, 67.6362495, 69.47625  , 69.134998 , 64.75     ,\n",
              "       66.608751 , 62.3849985, 62.001247 , 60.8899995, 61.9312495,\n",
              "       59.97875  , 55.13875  , 60.248751 , 62.8187505, 63.129999 ,\n",
              "       62.865    , 63.1149995, 64.311249 , 60.9812505, 60.256248 ,\n",
              "       60.5837495, 64.0612485, 66.3375015, 66.075001 , 66.8462525,\n",
              "       67.44125  , 70.7874985, 70.869999 , 71.3187525, 70.4762495,\n",
              "       69.81625  , 67.834999 , 68.7625005, 69.5774995, 70.001251 ,\n",
              "       70.5612525, 70.50375  , 71.6950035, 72.860001 , 73.106251 ,\n",
              "       72.5012515, 74.432499 , 75.2637485, 75.8925015, 76.830002 ,\n",
              "       78.0362475, 78.825001 , 77.3950005, 76.415001 , 76.013748 ,\n",
              "       78.352501 , 78.9412495, 79.504997 , 79.5950015, 79.3225025,\n",
              "       80.092499 , 78.9749985, 79.883751 , 79.702499 , 79.945    ,\n",
              "       80.2962495, 81.0625   , 80.7999995, 81.8725015, 82.615002 ])"
            ]
          },
          "metadata": {},
          "execution_count": 28
        }
      ]
    },
    {
      "cell_type": "code",
      "source": [
        "env2.signal_features"
      ],
      "metadata": {
        "id": "2l6icnfYdCcu",
        "colab": {
          "base_uri": "https://localhost:8080/"
        },
        "outputId": "007fabd3-53c6-4e80-df2e-7fe448430fb3"
      },
      "execution_count": 29,
      "outputs": [
        {
          "output_type": "execute_result",
          "data": {
            "text/plain": [
              "array([[4.75074995e+01, 1.11448000e+08, 0.00000000e+00, ...,\n",
              "        0.00000000e+00, 0.00000000e+00, 4.78100010e+01],\n",
              "       [4.81887515e+01, 9.10628000e+07, 0.00000000e+00, ...,\n",
              "        0.00000000e+00, 0.00000000e+00, 4.81779422e+01],\n",
              "       [4.87062490e+01, 9.30872000e+07, 0.00000000e+00, ...,\n",
              "        0.00000000e+00, 0.00000000e+00, 4.84241373e+01],\n",
              "       ...,\n",
              "       [8.07999995e+01, 8.75604000e+07, 7.98285429e+01, ...,\n",
              "        7.97225040e+01, 4.04317896e+01, 7.88663602e+01],\n",
              "       [8.18725015e+01, 1.37250400e+08, 8.02110426e+01, ...,\n",
              "        8.04625020e+01, 4.14690567e+01, 7.93117647e+01],\n",
              "       [8.26150020e+01, 9.56544000e+07, 8.05075005e+01, ...,\n",
              "        8.05800020e+01, 4.26140490e+01, 7.97621239e+01]])"
            ]
          },
          "metadata": {},
          "execution_count": 29
        }
      ]
    },
    {
      "cell_type": "code",
      "source": [
        "state=env2.reset()\n",
        "while True:\n",
        "  action=env2.action_space.sample()\n",
        "  n_state,reward,done,info=env2.step(action)\n",
        "  if done:\n",
        "    print(\"info\",info)\n",
        "    break\n",
        "plt.figure(figsize=(15,6))\n",
        "plt.cla()\n",
        "env2.render_all()\n",
        "plt.show    "
      ],
      "metadata": {
        "id": "vqWuRAuThlWY",
        "colab": {
          "base_uri": "https://localhost:8080/",
          "height": 452
        },
        "outputId": "271ed8cc-3754-46a6-d9ce-08f1e6d95549"
      },
      "execution_count": 30,
      "outputs": [
        {
          "output_type": "stream",
          "name": "stdout",
          "text": [
            "info {'total_reward': 30.44251050000002, 'total_profit': 0.5328985575596582, 'position': 0}\n"
          ]
        },
        {
          "output_type": "execute_result",
          "data": {
            "text/plain": [
              "<function matplotlib.pyplot.show>"
            ]
          },
          "metadata": {},
          "execution_count": 30
        },
        {
          "output_type": "display_data",
          "data": {
            "text/plain": [
              "<Figure size 1080x432 with 1 Axes>"
            ],
            "image/png": "[encoded data removed]"
          },
          "metadata": {
            "needs_background": "light"
          }
        }
      ]
    },
    {
      "cell_type": "code",
      "source": [
        "env_maker=lambda: env2\n",
        "env=DummyVecEnv([env_maker])"
      ],
      "metadata": {
        "id": "aV_jRCqFhqC9"
      },
      "execution_count": 31,
      "outputs": []
    },
    {
      "cell_type": "code",
      "source": [
        "model=DQN('LnMlpPolicy',env,verbose=1)\n",
        "model.learn(total_timesteps=100000)"
      ],
      "metadata": {
        "id": "nJ4Bb9nL5v3c",
        "colab": {
          "base_uri": "https://localhost:8080/"
        },
        "outputId": "e5b79a46-f3cf-4a13-e339-f52ea781f439"
      },
      "execution_count": 32,
      "outputs": [
        {
          "output_type": "stream",
          "name": "stdout",
          "text": [
            "WARNING:tensorflow:From /usr/local/lib/python3.7/dist-packages/stable_baselines/common/tf_util.py:191: The name tf.ConfigProto is deprecated. Please use tf.compat.v1.ConfigProto instead.\n",
            "\n",
            "WARNING:tensorflow:From /usr/local/lib/python3.7/dist-packages/stable_baselines/common/tf_util.py:200: The name tf.Session is deprecated. Please use tf.compat.v1.Session instead.\n",
            "\n",
            "WARNING:tensorflow:From /usr/local/lib/python3.7/dist-packages/stable_baselines/deepq/dqn.py:129: The name tf.train.AdamOptimizer is deprecated. Please use tf.compat.v1.train.AdamOptimizer instead.\n",
            "\n",
            "WARNING:tensorflow:From /usr/local/lib/python3.7/dist-packages/stable_baselines/deepq/build_graph.py:358: The name tf.variable_scope is deprecated. Please use tf.compat.v1.variable_scope instead.\n",
            "\n",
            "WARNING:tensorflow:From /usr/local/lib/python3.7/dist-packages/stable_baselines/deepq/build_graph.py:359: The name tf.placeholder is deprecated. Please use tf.compat.v1.placeholder instead.\n",
            "\n",
            "WARNING:tensorflow:From /usr/local/lib/python3.7/dist-packages/stable_baselines/deepq/build_graph.py:139: The name tf.get_variable is deprecated. Please use tf.compat.v1.get_variable instead.\n",
            "\n",
            "WARNING:tensorflow:From /usr/local/lib/python3.7/dist-packages/stable_baselines/deepq/policies.py:109: flatten (from tensorflow.python.layers.core) is deprecated and will be removed in a future version.\n",
            "Instructions for updating:\n",
            "Use keras.layers.flatten instead.\n",
            "WARNING:tensorflow:From /usr/local/lib/python3.7/dist-packages/tensorflow_core/python/layers/core.py:332: Layer.apply (from tensorflow.python.keras.engine.base_layer) is deprecated and will be removed in a future version.\n",
            "Instructions for updating:\n",
            "Please use `layer.__call__` method instead.\n",
            "WARNING:tensorflow:From /usr/local/lib/python3.7/dist-packages/stable_baselines/deepq/build_graph.py:147: The name tf.random_uniform is deprecated. Please use tf.random.uniform instead.\n",
            "\n",
            "WARNING:tensorflow:From /usr/local/lib/python3.7/dist-packages/stable_baselines/deepq/build_graph.py:149: where (from tensorflow.python.ops.array_ops) is deprecated and will be removed in a future version.\n",
            "Instructions for updating:\n",
            "Use tf.where in 2.0, which has the same broadcast rule as np.where\n",
            "WARNING:tensorflow:From /usr/local/lib/python3.7/dist-packages/stable_baselines/deepq/build_graph.py:372: The name tf.get_collection is deprecated. Please use tf.compat.v1.get_collection instead.\n",
            "\n",
            "WARNING:tensorflow:From /usr/local/lib/python3.7/dist-packages/stable_baselines/deepq/build_graph.py:372: The name tf.GraphKeys is deprecated. Please use tf.compat.v1.GraphKeys instead.\n",
            "\n",
            "WARNING:tensorflow:From /usr/local/lib/python3.7/dist-packages/stable_baselines/deepq/build_graph.py:372: The name tf.get_variable_scope is deprecated. Please use tf.compat.v1.get_variable_scope instead.\n",
            "\n",
            "WARNING:tensorflow:From /usr/local/lib/python3.7/dist-packages/stable_baselines/deepq/build_graph.py:415: The name tf.summary.scalar is deprecated. Please use tf.compat.v1.summary.scalar instead.\n",
            "\n",
            "WARNING:tensorflow:From /usr/local/lib/python3.7/dist-packages/stable_baselines/deepq/build_graph.py:449: The name tf.summary.merge_all is deprecated. Please use tf.compat.v1.summary.merge_all instead.\n",
            "\n",
            "WARNING:tensorflow:From /usr/local/lib/python3.7/dist-packages/stable_baselines/common/tf_util.py:241: The name tf.global_variables is deprecated. Please use tf.compat.v1.global_variables instead.\n",
            "\n",
            "WARNING:tensorflow:From /usr/local/lib/python3.7/dist-packages/stable_baselines/common/tf_util.py:242: The name tf.variables_initializer is deprecated. Please use tf.compat.v1.variables_initializer instead.\n",
            "\n",
            "WARNING:tensorflow:From /usr/local/lib/python3.7/dist-packages/stable_baselines/common/tf_util.py:322: The name tf.get_default_session is deprecated. Please use tf.compat.v1.get_default_session instead.\n",
            "\n",
            "--------------------------------------\n",
            "| % time spent exploring  | 2        |\n",
            "| episodes                | 100      |\n",
            "| mean 100 episode reward | 7.8      |\n",
            "| steps                   | 28413    |\n",
            "--------------------------------------\n",
            "--------------------------------------\n",
            "| % time spent exploring  | 2        |\n",
            "| episodes                | 200      |\n",
            "| mean 100 episode reward | 4.6      |\n",
            "| steps                   | 57113    |\n",
            "--------------------------------------\n",
            "--------------------------------------\n",
            "| % time spent exploring  | 2        |\n",
            "| episodes                | 300      |\n",
            "| mean 100 episode reward | 5.6      |\n",
            "| steps                   | 85813    |\n",
            "--------------------------------------\n"
          ]
        },
        {
          "output_type": "execute_result",
          "data": {
            "text/plain": [
              "<stable_baselines.deepq.dqn.DQN at 0x7fb357ac93d0>"
            ]
          },
          "metadata": {},
          "execution_count": 32
        }
      ]
    },
    {
      "cell_type": "code",
      "source": [
        "env=MyCustomEnv(df=df,window_size=12,frame_bound=(420,480))\n",
        "obs=env.reset()\n",
        "while True:\n",
        "  obs=obs[np.newaxis,...]\n",
        "  action, _states=model.predict(obs)\n",
        "  obs,reward,done,info=env.step(action)\n",
        "  if done:\n",
        "    print(\"info\",info)\n",
        "    break"
      ],
      "metadata": {
        "id": "IHvx8-4ND0rA",
        "colab": {
          "base_uri": "https://localhost:8080/"
        },
        "outputId": "59c45159-75f6-4610-ff53-c5dd5c6bcf30"
      },
      "execution_count": 33,
      "outputs": [
        {
          "output_type": "stream",
          "name": "stdout",
          "text": [
            "info {'total_reward': 13.679965000000053, 'total_profit': 0.8981389030962375, 'position': 1}\n"
          ]
        }
      ]
    },
    {
      "cell_type": "code",
      "source": [
        "plt.figure(figsize=(15,6))\n",
        "plt.cla()\n",
        "env.render_all()\n",
        "plt.show    "
      ],
      "metadata": {
        "id": "dYMNc3U9GsrX",
        "colab": {
          "base_uri": "https://localhost:8080/",
          "height": 434
        },
        "outputId": "ccb63e23-67fb-4221-a185-cf5be93baae1"
      },
      "execution_count": 34,
      "outputs": [
        {
          "output_type": "execute_result",
          "data": {
            "text/plain": [
              "<function matplotlib.pyplot.show>"
            ]
          },
          "metadata": {},
          "execution_count": 34
        },
        {
          "output_type": "display_data",
          "data": {
            "text/plain": [
              "<Figure size 1080x432 with 1 Axes>"
            ],
            "image/png": "[encoded data removed]"
          },
          "metadata": {
            "needs_background": "light"
          }
        }
      ]
    },
    {
      "cell_type": "code",
      "source": [
        ""
      ],
      "metadata": {
        "id": "0afcInhKGzRd"
      },
      "execution_count": 34,
      "outputs": []
    },
    {
      "cell_type": "code",
      "source": [
        ""
      ],
      "metadata": {
        "id": "ac-GJ_5TpHIl"
      },
      "execution_count": 34,
      "outputs": []
    },
    {
      "cell_type": "code",
      "source": [
        ""
      ],
      "metadata": {
        "id": "RBvfT2mdpd-Q"
      },
      "execution_count": 34,
      "outputs": []
    },
    {
      "cell_type": "code",
      "source": [
        ""
      ],
      "metadata": {
        "id": "IqNoC_EHpl-A"
      },
      "execution_count": 34,
      "outputs": []
    }
  ]
}